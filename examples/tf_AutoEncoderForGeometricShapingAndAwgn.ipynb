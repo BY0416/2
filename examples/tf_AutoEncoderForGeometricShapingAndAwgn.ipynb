{
 "cells": [
  {
   "cell_type": "code",
   "execution_count": 1,
   "metadata": {},
   "outputs": [],
   "source": [
    "%matplotlib inline\n",
    "import matplotlib\n",
    "import numpy as np\n",
    "import matplotlib.pyplot as plt\n",
    "import tensorflow as tf\n",
    "import scipy.io\n",
    "\n",
    "import os, re\n",
    "\n",
    "import claude.utils as cu\n",
    "import claude.claudeflow.autoencoder as ae\n",
    "import claude.claudeflow.helper as cfh"
   ]
  },
  {
   "cell_type": "code",
   "execution_count": 2,
   "metadata": {},
   "outputs": [],
   "source": [
    "seed = 42\n",
    "tf.set_random_seed(seed)\n",
    "np.random.seed(seed)\n",
    "\n",
    "# Parameters\n",
    "# Channel Parameters\n",
    "chParam = cu.AttrDict()\n",
    "chParam.M = 16\n",
    "\n",
    "# Auto-Encoder Parameters\n",
    "aeParam = cu.AttrDict()\n",
    "aeParam.dimension\t= 2\n",
    "aeParam.nLayers\t\t= 2\n",
    "aeParam.hiddenUnits\t= 32\n",
    "aeParam.activation  = tf.nn.selu\n",
    "aeParam.dropout\t\t= False\n",
    "aeParam.dtype       = tf.float32\n",
    "\n",
    "# Training Parameters\n",
    "trainingParam = cu.AttrDict()\n",
    "trainingParam.sampleSize\t= 512*chParam.M # Increase for better results (especially if M>16)\n",
    "trainingParam.batchSize \t= 32*chParam.M  # Increase for better results (especially if M>16)\n",
    "trainingParam.learningRate\t= 0.001\n",
    "trainingParam.displayStep\t= 20\n",
    "trainingParam.path\t\t\t= 'results_AWGN_end2end'\n",
    "trainingParam.filename\t\t= 'M{}'.format(chParam.M)\n",
    "trainingParam.earlyStopping = 250\n",
    "trainingParam.iterations = 250\n",
    "\n",
    "# TF constants\n",
    "two = tf.constant(2,aeParam.dtype)\n",
    "DIM = tf.constant(aeParam.dimension,aeParam.dtype)\n",
    "PI = tf.constant(np.pi,aeParam.dtype)"
   ]
  },
  {
   "cell_type": "code",
   "execution_count": 3,
   "metadata": {},
   "outputs": [],
   "source": [
    "# Tx Graph     \n",
    "X = tf.placeholder( aeParam.dtype, shape=(None, chParam.M) )\n",
    "enc = ae.encoder(X,aeParam.hiddenUnits,aeParam.nLayers,aeParam.activation,nOutput=aeParam.dimension)\n",
    "enc_norm = cfh.IQ_norm( enc )\n",
    "\n",
    "# Channel Graph\n",
    "sigma2_noise = tf.constant(0.1,aeParam.dtype)\n",
    "noise = tf.sqrt( sigma2_noise )\\\n",
    "            *tf.rsqrt(two)\\\n",
    "            *tf.random_normal(shape=tf.shape(enc_norm),dtype=aeParam.dtype)\n",
    "channel_out = enc_norm + noise\n",
    "\n",
    "# Rx Graph\n",
    "dec = ae.decoder(channel_out,aeParam.hiddenUnits,aeParam.nLayers,aeParam.activation,chParam.M)\n",
    "per_ex_loss = tf.nn.softmax_cross_entropy_with_logits_v2(labels=X,logits=dec)"
   ]
  },
  {
   "cell_type": "code",
   "execution_count": 4,
   "metadata": {},
   "outputs": [],
   "source": [
    "# Loss\n",
    "correct_prediction = tf.equal(tf.argmax(X,1), tf.argmax(dec,1))\n",
    "accuracy = tf.reduce_mean(tf.cast(correct_prediction, aeParam.dtype))\n",
    "loss = tf.reduce_mean(per_ex_loss)\n",
    "\n",
    "optimizer = tf.train.AdamOptimizer(learning_rate=trainingParam.learningRate).minimize(loss)\n",
    "\n",
    "avg_loss, avg_loss_update, avg_loss_reset = cfh.create_reset_metric(tf.metrics.mean, 'loss_metric', loss)\n",
    "avg_accuracy, avg_accuracy_update, avg_accuracy_reset = cfh.create_reset_metric(tf.metrics.mean, 'accuracy_metric', accuracy)\n",
    "reset_ops = [avg_loss_reset,avg_accuracy_reset]\n",
    "update_ops = [avg_loss_update,avg_accuracy_update]"
   ]
  },
  {
   "cell_type": "code",
   "execution_count": 5,
   "metadata": {},
   "outputs": [],
   "source": [
    "init = tf.global_variables_initializer()\n",
    "sess = tf.Session()\n",
    "sess.run(init)\n",
    "\n",
    "saver = tf.train.Saver()\n",
    "checkpoint_path = os.path.join(trainingParam.path,'checkpoint',trainingParam.filename,'best')\n",
    "if not os.path.exists(checkpoint_path):\n",
    "    os.makedirs(checkpoint_path)\n",
    "else:\n",
    "    pass\n",
    "#     print(\"Restoring checkpoint...\", flush=True)\n",
    "#     saver.restore(sess=sess,save_path=checkpoint_path)"
   ]
  },
  {
   "cell_type": "code",
   "execution_count": 6,
   "metadata": {},
   "outputs": [
    {
     "name": "stdout",
     "output_type": "stream",
     "text": [
      "epoche: 20 - avgLoss: 0.7039861083030701 - avgAcc: 0.7791748046875\n",
      "epoche: 40 - avgLoss: 0.5788153409957886 - avgAcc: 0.77587890625\n",
      "epoche: 60 - avgLoss: 0.5455521941184998 - avgAcc: 0.789794921875\n",
      "epoche: 80 - avgLoss: 0.5596516132354736 - avgAcc: 0.789306640625\n",
      "epoche: 100 - avgLoss: 0.5454341769218445 - avgAcc: 0.7938232421875\n",
      "epoche: 120 - avgLoss: 0.5539963841438293 - avgAcc: 0.79248046875\n",
      "epoche: 140 - avgLoss: 0.5641120672225952 - avgAcc: 0.7891845703125\n",
      "epoche: 160 - avgLoss: 0.5461405515670776 - avgAcc: 0.79150390625\n",
      "epoche: 180 - avgLoss: 0.5454663634300232 - avgAcc: 0.796142578125\n",
      "epoche: 200 - avgLoss: 0.5554857850074768 - avgAcc: 0.7872314453125\n",
      "epoche: 220 - avgLoss: 0.5496293902397156 - avgAcc: 0.788818359375\n",
      "epoche: 240 - avgLoss: 0.5394671559333801 - avgAcc: 0.7943115234375\n"
     ]
    }
   ],
   "source": [
    "nBatches = int(trainingParam.sampleSize/trainingParam.batchSize)\n",
    "bestLoss = 10000\n",
    "\n",
    "for epoche in range(1, trainingParam.iterations+1):\n",
    "    sess.run(reset_ops)\n",
    "    for batch in range(0,nBatches):\n",
    "        data, _, _ = cu.hotOnes(trainingParam.batchSize,(1,0),chParam.M)\n",
    "        feedDict = {X: data}\n",
    "        sess.run([optimizer, update_ops], feed_dict=feedDict)\n",
    "\n",
    "    [outAvgLoss, outAvgAccuracy] = sess.run([avg_loss, avg_accuracy], feed_dict=feedDict)\n",
    "\n",
    "    if outAvgLoss < bestLoss:\n",
    "        bestLoss = outAvgLoss\n",
    "        lastImprovement = epoche\n",
    "        saver.save(sess=sess,save_path=checkpoint_path)\n",
    "\n",
    "    if epoche - lastImprovement > trainingParam.earlyStopping:\n",
    "        print(\"Breaking due to no improvement\")\n",
    "        break;\n",
    "\n",
    "    if epoche%trainingParam.displayStep == 0:\n",
    "        print('epoche: {} - avgLoss: {} - avgAcc: {}'.format(epoche,outAvgLoss,outAvgAccuracy))"
   ]
  },
  {
   "cell_type": "code",
   "execution_count": 7,
   "metadata": {},
   "outputs": [
    {
     "name": "stdout",
     "output_type": "stream",
     "text": [
      "INFO:tensorflow:Restoring parameters from results_AWGN_end2end/checkpoint/M16/best\n"
     ]
    },
    {
     "data": {
      "image/png": "[encoded data removed]",
      "text/plain": [
       "<Figure size 432x288 with 1 Axes>"
      ]
     },
     "metadata": {
      "needs_background": "light"
     },
     "output_type": "display_data"
    }
   ],
   "source": [
    "saver.restore(sess=sess,save_path=checkpoint_path)\n",
    "data, idx, xseed = cu.hotOnes(trainingParam.batchSize,(1,0),chParam.M)\n",
    "feedDict = {X: xseed}\n",
    "pred_const = sess.run(enc_norm, feed_dict=feedDict)\n",
    "plt.plot(pred_const[:,0],pred_const[:,1],'.')\n",
    "plt.axis('square');"
   ]
  }
 ],
 "metadata": {
  "kernelspec": {
   "display_name": "Python 3",
   "language": "python",
   "name": "python3"
  },
  "language_info": {
   "codemirror_mode": {
    "name": "ipython",
    "version": 3
   },
   "file_extension": ".py",
   "mimetype": "text/x-python",
   "name": "python",
   "nbconvert_exporter": "python",
   "pygments_lexer": "ipython3",
   "version": "3.6.5"
  }
 },
 "nbformat": 4,
 "nbformat_minor": 2
}
