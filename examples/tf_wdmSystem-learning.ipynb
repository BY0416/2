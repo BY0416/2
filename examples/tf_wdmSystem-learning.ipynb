{
 "cells": [
  {
   "cell_type": "code",
   "execution_count": 1,
   "metadata": {},
   "outputs": [],
   "source": [
    "%matplotlib inline\n",
    "import matplotlib\n",
    "import tensorflow as tf\n",
    "import numpy as np\n",
    "import matplotlib.pyplot as plt\n",
    "import scipy.io\n",
    "import os"
   ]
  },
  {
   "cell_type": "code",
   "execution_count": 2,
   "metadata": {},
   "outputs": [],
   "source": [
    "# load memory_saving_gradients.py\n",
    "# see https://github.com/cybertronai/gradient-checkpointing\n",
    "import urllib.request\n",
    "memSavingGradientsFilename = \"memory_saving_gradients.py\"\n",
    "if not os.path.exists(memSavingGradientsFilename):\n",
    "    memSavingGradientsURL = \"https://raw.githubusercontent.com/cybertronai/gradient-checkpointing/master/memory_saving_gradients.py\"\n",
    "    urllib.request.urlretrieve(memSavingGradientsURL, memSavingGradientsFilename)\n",
    "    \n",
    "    from memory_saving_gradients import gradients\n",
    "    tf.__dict__[\"gradients\"] = memory_saving_gradients.gradients_collection"
   ]
  },
  {
   "cell_type": "code",
   "execution_count": 3,
   "metadata": {},
   "outputs": [],
   "source": [
    "import claude.utils as cu\n",
    "import claude.tx as tx\n",
    "import claude.claudeflow.systems as cfs\n",
    "import claude.claudeflow.training as cft\n",
    "import claude.claudeflow.helper as cfh\n",
    "import claude.claudeflow.autoencoder as ae\n",
    "import claude.claudeflow.models.SSFstatic as ssf"
   ]
  },
  {
   "cell_type": "code",
   "execution_count": 4,
   "metadata": {},
   "outputs": [],
   "source": [
    "# True:  runs on cluster with GPU etc\n",
    "# False: can run localy\n",
    "runWithNonlinear = False"
   ]
  },
  {
   "cell_type": "code",
   "execution_count": 5,
   "metadata": {},
   "outputs": [
    {
     "name": "stdout",
     "output_type": "stream",
     "text": [
      "M:\t16\n",
      "nPol:\t2\n",
      "sps:\t16\n",
      "nSamples:\t1024\n",
      "rollOff:\t0.05\n",
      "filterSpan:\t128\n",
      "optimizeP:\tFalse\n",
      "PdBm:\t0\n",
      "Rs:\t32000000000.0\n",
      "channels:\t[-100.  -50.    0.   50.  100.]\n",
      "nChannels:\t5\n",
      "frequencyShift:\tTrue\n",
      "dispersionCompensation:\tFalse\n",
      "beta2:\t2.0999953937404486e-26\n",
      "dz:\t1000000.0\n",
      "Fs:\t512000000000.0\n",
      "N:\t16384\n",
      "realType:\t<dtype: 'float64'>\n",
      "complexType:\t<dtype: 'complex128'>\n",
      "\n"
     ]
    }
   ],
   "source": [
    "# Tx\n",
    "param = cfs.defaultParameters(precision='double')\n",
    "\n",
    "if runWithNonlinear:    \n",
    "    param.sps = 16\n",
    "    param.nSamples = 2048\n",
    "    param.optimizeP = True\n",
    "    param.PdBm  = -1\n",
    "else:    \n",
    "    param.sps = 16\n",
    "    param.nSamples = 1024\n",
    "    param.PdBm  = 0\n",
    "    \n",
    "param.M     = 16\n",
    "param.Fs    = param.sps * param.Rs\n",
    "print(param)"
   ]
  },
  {
   "cell_type": "code",
   "execution_count": 6,
   "metadata": {},
   "outputs": [
    {
     "name": "stdout",
     "output_type": "stream",
     "text": [
      "Fs:\t512000000000.0\n",
      "N:\t16384\n",
      "nSteps:\t2\n",
      "stepSize:\t50.0\n",
      "ampScheme:\tEDFA\n",
      "noiseEnabled:\tTrue\n",
      "manakovEnabled:\tTrue\n",
      "dispersionCompensationEnabled:\tFalse\n",
      "checkpointInverval:\t2\n",
      "nPol:\t2\n",
      "lambda_:\t1.55003597538907e-06\n",
      "Fc:\t193410000000000.0\n",
      "D:\t16.464\n",
      "alpha:\t0.2\n",
      "beta2:\t2.0999953937404486e-26\n",
      "gamma:\t0\n",
      "nSpans:\t10\n",
      "spanLength:\t100\n",
      "noiseFigure:\t5\n",
      "intType:\t<dtype: 'int32'>\n",
      "realType:\t<dtype: 'float64'>\n",
      "complexType:\t<dtype: 'complex128'>\n",
      "stepSizeTemplate:\t[50. 50.]\n",
      "\n"
     ]
    }
   ],
   "source": [
    "ssfParam = ssf.defaultParameters(precision='double')\n",
    "ssfParam.Fs = param.Fs\n",
    "ssfParam.N = param.sps * param.nSamples\n",
    "ssfParam.noiseEnabled = True\n",
    "ssfParam.noiseFigure = 5\n",
    "ssfParam.nSpans = 10\n",
    "\n",
    "if runWithNonlinear:\n",
    "    ssfParam.gamma = 1\n",
    "    ssfParam.nSteps = 1000\n",
    "else:\n",
    "    ssfParam.gamma = 0\n",
    "    ssfParam.nSteps = 2\n",
    "\n",
    "ssfParam.stepSize = ssfParam.spanLength/ssfParam.nSteps\n",
    "ssfParam.stepSizeTemplate = ssfParam.stepSize * np.ones((ssfParam.nSteps,)) # constant stepsize\n",
    "\n",
    "# ssfParam.stepSizeTemplate = ssf.logStepSizes(ssfParam.spanLength, ssfParam.alpha, ssfParam.nSteps) # log stepsize\n",
    "\n",
    "print(ssfParam)"
   ]
  },
  {
   "cell_type": "code",
   "execution_count": 7,
   "metadata": {},
   "outputs": [
    {
     "name": "stdout",
     "output_type": "stream",
     "text": [
      "seed:\t1337\n",
      "constellationOrder:\t16\n",
      "constellationDim:\t2\n",
      "nLayers:\t2\n",
      "nHidden:\t32\n",
      "activation:\t<function relu at 0x7fb5bdc13730>\n",
      "\n"
     ]
    }
   ],
   "source": [
    "aeParam = cu.AttrDict()\n",
    "aeParam.seed    = 1337\n",
    "aeParam.constellationOrder = param.M\n",
    "aeParam.constellationDim = 2\n",
    "\n",
    "if runWithNonlinear:\n",
    "    aeParam.nLayers = 4\n",
    "    aeParam.nHidden = 64\n",
    "else:\n",
    "    aeParam.nLayers = 2\n",
    "    aeParam.nHidden = 32\n",
    "\n",
    "aeParam.activation = tf.nn.relu\n",
    "\n",
    "print(aeParam)"
   ]
  },
  {
   "cell_type": "code",
   "execution_count": 8,
   "metadata": {},
   "outputs": [
    {
     "name": "stdout",
     "output_type": "stream",
     "text": [
      "M=16,learningRate=0.01,seed=1337\n",
      "batchSize:\t1\n",
      "nBatches:\t1\n",
      "nMiniBatches:\t4\n",
      "removeSymbols:\t32\n",
      "nEpochs:\t5\n",
      "learningRate:\t0.01\n",
      "displayStep:\t1\n",
      "path:\tresults_SSFM\n",
      "filename:\tM016_seed1337\n",
      "earlyStopping:\t25\n",
      "earlyStoppingMetric:\txentropy\n",
      "summaries:\tTrue\n",
      "summaryString:\tM=16,learningRate=0.01,seed=1337\n",
      "\n"
     ]
    }
   ],
   "source": [
    "trainingParam = cu.AttrDict()\n",
    "if runWithNonlinear:    \n",
    "    trainingParam.batchSize     = 1\n",
    "    trainingParam.nBatches      = 4\n",
    "    trainingParam.nMiniBatches  = 4\n",
    "    trainingParam.removeSymbols = 128\n",
    "else:    \n",
    "    trainingParam.batchSize     = 1\n",
    "    trainingParam.nBatches      = 1\n",
    "    trainingParam.nMiniBatches  = 4\n",
    "    trainingParam.removeSymbols = 32\n",
    "    \n",
    "trainingParam.nEpochs             = 50\n",
    "\n",
    "trainingParam.learningRate        = 1e-2\n",
    "trainingParam.displayStep         = 1\n",
    "trainingParam.path                = 'results_SSFM'\n",
    "trainingParam.filename            = 'M{:03d}_seed{:04d}'.format(param.M,aeParam.seed)\n",
    "trainingParam.earlyStopping       = 25\n",
    "trainingParam.earlyStoppingMetric = 'xentropy'\n",
    "trainingParam.summaries           = True\n",
    "\n",
    "# generalize this\n",
    "if trainingParam.summaries:\n",
    "    # tensorboard directory\n",
    "    hyperParam = ['M']\n",
    "    aeHyperParam = ['seed']\n",
    "    trainingHyperParam = ['learningRate']\n",
    "\n",
    "    trainingParam.summaryString = ','.join(  [ '{}={}'.format(item,param[item]) for item in hyperParam ]\n",
    "                                            +[ '{}={}'.format(item,trainingParam[item]) for item in trainingHyperParam ]\n",
    "                                            +[ '{}={}'.format(item,aeParam[item]) for item in aeHyperParam ] )\n",
    "\n",
    "    print(trainingParam.summaryString,flush=True)\n",
    "    \n",
    "print(trainingParam)"
   ]
  },
  {
   "cell_type": "code",
   "execution_count": 9,
   "metadata": {},
   "outputs": [],
   "source": [
    "# Constants\n",
    "c = 299792458\n",
    "tf.set_random_seed(aeParam.seed)\n",
    "np.random.seed(aeParam.seed)"
   ]
  },
  {
   "cell_type": "code",
   "execution_count": 10,
   "metadata": {},
   "outputs": [
    {
     "name": "stderr",
     "output_type": "stream",
     "text": [
      "WARNING: Logging before flag parsing goes to stderr.\n",
      "W0907 10:08:48.885838 140419643709248 deprecation.py:506] From /home/rasmus/.conda/envs/claudeOnline/lib/python3.6/site-packages/tensorflow/python/ops/init_ops.py:1251: calling VarianceScaling.__init__ (from tensorflow.python.ops.init_ops) with dtype is deprecated and will be removed in a future version.\n",
      "Instructions for updating:\n",
      "Call initializer instance with the dtype argument instead of passing it to the constructor\n"
     ]
    }
   ],
   "source": [
    "X = tf.placeholder(param.realType, shape=(None, param.nChannels, param.nPol, param.nSamples, param.M))\n",
    "txSymbols, constellation = ae.encoder(X, aeParam, toComplex=True)"
   ]
  },
  {
   "cell_type": "code",
   "execution_count": 12,
   "metadata": {},
   "outputs": [
    {
     "name": "stdout",
     "output_type": "stream",
     "text": [
      "nSpans: 10, nSteps: 2\n"
     ]
    }
   ],
   "source": [
    "signal = cfs.wdmTransmitter(txSymbols, param)\n",
    "\n",
    "ssfParam.stepSize = tf.placeholder(param.realType, shape=(ssfParam.nSpans, ssfParam.nSteps))\n",
    "signalOut = ssf.model(ssfParam, signal)\n",
    "\n",
    "param.dispersionCompensation = True\n",
    "param.beta2  = ssfParam.D * 1e-6 * ( c / ssfParam.Fc )**2 / ( 2 * np.pi * c )\n",
    "param.dz     = ssfParam.spanLength * 1e3 * ssfParam.nSpans\n",
    "rxSymbols = cfs.wdmReceiver(signalOut, param)"
   ]
  },
  {
   "cell_type": "code",
   "execution_count": 13,
   "metadata": {},
   "outputs": [],
   "source": [
    "rxSymbols, txSymbols, labels = cfh.truncate(trainingParam.removeSymbols, rxSymbols, txSymbols, tf.linalg.matrix_transpose(X))\n",
    "labels = tf.linalg.matrix_transpose(labels)\n",
    "\n",
    "decoder = ae.decoder(rxSymbols, aeParam, param.M, name='decoder')\n",
    "\n",
    "# loss\n",
    "loss = tf.reduce_mean(tf.nn.softmax_cross_entropy_with_logits_v2(labels=labels, logits=decoder))"
   ]
  },
  {
   "cell_type": "code",
   "execution_count": 14,
   "metadata": {},
   "outputs": [],
   "source": [
    "nDims = 4 # Dimension of X\n",
    "reduce_axis = [0, 2, 3]\n",
    "errorrate = cfh.symbolErrorrate(constellation, txSymbols, rxSymbols, nDims, param.M, reduce_axis)\n",
    "\n",
    "signalPower = tf.constant( 1 / param.nPol, param.realType)\n",
    "effSNR = cfh.effectiveSNR(txSymbols, rxSymbols, signalPower, reduce_axis)\n",
    "\n",
    "# MI\n",
    "MI = []\n",
    "for (txChannel, rxChannel) in zip(tf.split(txSymbols, param.nChannels, axis=1), tf.split(rxSymbols, param.nChannels, axis=1)):\n",
    "    MI_temp = cfh.gaussianMI(tf.reshape(txChannel,[-1]), tf.reshape(rxChannel,[-1]), constellation, param.M)\n",
    "    MI.append(MI_temp)\n",
    "\n",
    "MI = tf.stack(MI)\n",
    "\n",
    "# only mid channel\n",
    "midChannel = param.nChannels//2 +1\n",
    "errorrate = errorrate[midChannel]\n",
    "MI = MI[midChannel]\n",
    "effSNR = effSNR[midChannel]"
   ]
  },
  {
   "cell_type": "code",
   "execution_count": 15,
   "metadata": {},
   "outputs": [],
   "source": [
    "metricsDict = {'xentropy':loss, 'errorrate':errorrate, 'MI': MI, 'effSNR': effSNR}\n",
    "\n",
    "def feedDictFun(trainingParam):\n",
    "    randomisedStepSize = ssf.randomizeSteps(ssfParam.stepSizeTemplate, ssfParam.spanLength, ssfParam.nSpans)\n",
    "    x, idx, x_seed = cu.hotOnes((trainingParam.batchSize, param.nChannels, param.nPol, param.nSamples),(1,2,3,4,0),param.M)\n",
    "    return { X:x, ssfParam.stepSize:randomisedStepSize }    "
   ]
  },
  {
   "cell_type": "code",
   "execution_count": 16,
   "metadata": {},
   "outputs": [
    {
     "name": "stderr",
     "output_type": "stream",
     "text": [
      "W0907 10:08:53.788098 140419643709248 lazy_loader.py:50] \n",
      "The TensorFlow contrib module will not be included in TensorFlow 2.0.\n",
      "For more information, please see:\n",
      "  * https://github.com/tensorflow/community/blob/master/rfcs/20180907-contrib-sunset.md\n",
      "  * https://github.com/tensorflow/addons\n",
      "  * https://github.com/tensorflow/io (for I/O related ops)\n",
      "If you depend on functionality not listed there, please file an issue.\n",
      "\n",
      "W0907 10:08:53.853698 140419643709248 deprecation.py:323] From /home/rasmus/PhD/claudeOnline/claude/claude/claudeflow/training.py:26: Variable.initialized_value (from tensorflow.python.ops.variables) is deprecated and will be removed in a future version.\n",
      "Instructions for updating:\n",
      "Use Variable.read_value. Variables in 2.X are initialized automatically both in eager and graph (inside tf.defun) contexts.\n",
      "W0907 10:08:58.300352 140419643709248 deprecation.py:323] From /home/rasmus/.conda/envs/claudeOnline/lib/python3.6/site-packages/tensorflow/python/ops/math_grad.py:1250: add_dispatch_support.<locals>.wrapper (from tensorflow.python.ops.array_ops) is deprecated and will be removed in a future version.\n",
      "Instructions for updating:\n",
      "Use tf.where in 2.0, which has the same broadcast rule as np.where\n"
     ]
    },
    {
     "name": "stdout",
     "output_type": "stream",
     "text": [
      "batch:  1 | miniBatch: 1, 2, 3, 4, \n",
      "epoch: 0001 - xentropy: 2.7684 - errorrate: 0.1277 - MI: 3.6023 - effSNR: 18.8271\n",
      "batch:  1 | miniBatch: 1, 2, 3, 4, \n",
      "epoch: 0002 - xentropy: 2.7047 - errorrate: 0.2168 - MI: 3.3416 - effSNR: 18.7826\n",
      "batch:  1 | miniBatch: 1, 2, 3, 4, \n",
      "epoch: 0003 - xentropy: 2.6288 - errorrate: 0.1005 - MI: 3.6735 - effSNR: 18.7072\n",
      "batch:  1 | miniBatch: 1, 2, 3, 4, \n",
      "epoch: 0004 - xentropy: 2.5646 - errorrate: 0.0557 - MI: 3.8251 - effSNR: 18.6522\n",
      "batch:  1 | miniBatch: 1, 2, 3, 4, \n",
      "epoch: 0005 - xentropy: 2.5100 - errorrate: 0.0716 - MI: 3.7782 - effSNR: 18.8245\n"
     ]
    },
    {
     "name": "stderr",
     "output_type": "stream",
     "text": [
      "W0907 10:09:26.371078 140419643709248 deprecation.py:323] From /home/rasmus/.conda/envs/claudeOnline/lib/python3.6/site-packages/tensorflow/python/training/saver.py:1276: checkpoint_exists (from tensorflow.python.training.checkpoint_management) is deprecated and will be removed in a future version.\n",
      "Instructions for updating:\n",
      "Use standard file APIs to check for files with this prefix.\n"
     ]
    }
   ],
   "source": [
    "sess = tf.compat.v1.Session()\n",
    "sess = cft.train(sess, tf.train.AdamOptimizer, loss, metricsDict, trainingParam, feedDictFun, debug=True)"
   ]
  },
  {
   "cell_type": "code",
   "execution_count": 17,
   "metadata": {},
   "outputs": [
    {
     "data": {
      "text/plain": [
       "(-1.5, 1.5)"
      ]
     },
     "execution_count": 17,
     "metadata": {},
     "output_type": "execute_result"
    },
    {
     "data": {
      "image/png": "[encoded data removed]",
      "text/plain": [
       "<Figure size 432x288 with 1 Axes>"
      ]
     },
     "metadata": {
      "needs_background": "light"
     },
     "output_type": "display_data"
    }
   ],
   "source": [
    "np_constellation = sess.run(constellation)\n",
    "plt.plot(np.real(np_constellation),np.imag(np_constellation),'.')\n",
    "plt.axis('square')\n",
    "lim_ = 1.5\n",
    "plt.xlim(-lim_,lim_)\n",
    "plt.ylim(-lim_,lim_)"
   ]
  },
  {
   "cell_type": "code",
   "execution_count": 19,
   "metadata": {},
   "outputs": [],
   "source": [
    "import claude.models.NLIN as nlin\n",
    "# System parameters\n",
    "qamParam = nlin.defaultParameters()\n",
    "qamParam.nSpans = ssfParam.nSpans\n",
    "\n",
    "aseNoisePower, chi, X, intraConstAdd, interConstAdd = nlin.calcConstants(qamParam)\n",
    "powerSweep = np.arange(-8, 4, 0.1)\n",
    "\n",
    "# QAM\n",
    "qam_constellation = np.squeeze(tx.qammod(param.M))\n",
    "qamParam.kur, qamParam.kur3 = nlin.calcKur(qam_constellation)\n",
    "\n",
    "qamEffSNR = powerSweep - nlin.calcNLIN(qamParam, powerSweep, aseNoisePower, chi, X, intraConstAdd, interConstAdd)\n",
    "\n",
    "# learned constellation\n",
    "aeNlinParam = qamParam\n",
    "aeNlinParam.kur, aeNlinParam.kur3 = nlin.calcKur(np_constellation)\n",
    "\n",
    "aeEffSNR = powerSweep - nlin.calcNLIN(aeNlinParam, powerSweep, aseNoisePower, chi, X, intraConstAdd, interConstAdd)"
   ]
  },
  {
   "cell_type": "code",
   "execution_count": 20,
   "metadata": {},
   "outputs": [
    {
     "data": {
      "image/png": "[encoded data removed]",
      "text/plain": [
       "<Figure size 432x288 with 1 Axes>"
      ]
     },
     "metadata": {
      "needs_background": "light"
     },
     "output_type": "display_data"
    }
   ],
   "source": [
    "plt.plot(powerSweep, qamEffSNR, 'b')\n",
    "plt.plot(powerSweep, aeEffSNR, 'r')\n",
    "plt.title('Power [dBm] VS effective SNR')\n",
    "plt.xlabel('Power [dBm]')\n",
    "plt.ylabel('effective SNR [dB]')\n",
    "plt.show()"
   ]
  },
  {
   "cell_type": "code",
   "execution_count": null,
   "metadata": {},
   "outputs": [],
   "source": []
  }
 ],
 "metadata": {
  "kernelspec": {
   "display_name": "Python 3",
   "language": "python",
   "name": "python3"
  },
  "language_info": {
   "codemirror_mode": {
    "name": "ipython",
    "version": 3
   },
   "file_extension": ".py",
   "mimetype": "text/x-python",
   "name": "python",
   "nbconvert_exporter": "python",
   "pygments_lexer": "ipython3",
   "version": "3.6.5"
  }
 },
 "nbformat": 4,
 "nbformat_minor": 2
}
