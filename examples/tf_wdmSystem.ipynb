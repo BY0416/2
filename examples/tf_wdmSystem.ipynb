{
 "cells": [
  {
   "cell_type": "code",
   "execution_count": 1,
   "metadata": {},
   "outputs": [],
   "source": [
    "%matplotlib inline\n",
    "import matplotlib\n",
    "import tensorflow as tf\n",
    "import numpy as np\n",
    "import matplotlib.pyplot as plt\n",
    "import scipy.io"
   ]
  },
  {
   "cell_type": "code",
   "execution_count": 2,
   "metadata": {},
   "outputs": [],
   "source": [
    "import claude.utils as cu\n",
    "import claude.tx as tx\n",
    "import claude.claudeflow.systems as cfs\n",
    "import claude.claudeflow.helper as cfh\n",
    "import claude.claudeflow.models.SSFstatic as ssf"
   ]
  },
  {
   "cell_type": "code",
   "execution_count": 3,
   "metadata": {},
   "outputs": [
    {
     "name": "stdout",
     "output_type": "stream",
     "text": [
      "nPol:\t2\n",
      "sps:\t16\n",
      "nSamples:\t1024\n",
      "rollOff:\t0.05\n",
      "filterSpan:\t128\n",
      "optimizeP:\tFalse\n",
      "PdBm:\t1\n",
      "Rs:\t32000000000.0\n",
      "channels:\t[-100.  -50.    0.   50.  100.]\n",
      "nChannels:\t5\n",
      "realType:\t<dtype: 'float64'>\n",
      "complexType:\t<dtype: 'complex128'>\n",
      "Fs:\t512000000000.0\n",
      "\n"
     ]
    }
   ],
   "source": [
    "# Tx\n",
    "batch_size = 2\n",
    "M = 16\n",
    "frequencyShift = True\n",
    "runs = 5\n",
    "\n",
    "param = cfs.defaultParameters(precision='double')\n",
    "param.Fs = param.sps * param.Rs\n",
    "print(param)"
   ]
  },
  {
   "cell_type": "code",
   "execution_count": 4,
   "metadata": {},
   "outputs": [
    {
     "name": "stdout",
     "output_type": "stream",
     "text": [
      "Fs:\t512000000000.0\n",
      "N:\t16384\n",
      "nSteps:\t1\n",
      "stepSize:\t100\n",
      "ampScheme:\tEDFA\n",
      "noiseEnabled:\tTrue\n",
      "manakovEnabled:\tTrue\n",
      "dispersionCompensationEnabled:\tFalse\n",
      "checkpointInverval:\t2\n",
      "nPol:\t2\n",
      "lambda_:\t1.55003597538907e-06\n",
      "Fc:\t193410000000000.0\n",
      "D:\t16.464\n",
      "alpha:\t0.2\n",
      "beta2:\t20.999953937404488\n",
      "gamma:\t0\n",
      "nSpans:\t10\n",
      "spanLength:\t100\n",
      "noiseFigure:\t5\n",
      "intType:\t<dtype: 'int32'>\n",
      "realType:\t<dtype: 'float64'>\n",
      "complexType:\t<dtype: 'complex128'>\n",
      "stepSizeTemplate:\t[100.]\n",
      "\n"
     ]
    }
   ],
   "source": [
    "ssfParam = ssf.defaultParameters(precision='double')\n",
    "ssfParam.gamma = 0 # easy debugging\n",
    "ssfParam.Fs = param.Fs\n",
    "ssfParam.N = param.sps * param.nSamples\n",
    "ssfParam.noiseEnabled = True\n",
    "ssfParam.noiseFigure = 5\n",
    "ssfParam.nSpans = 10\n",
    "print(ssfParam)"
   ]
  },
  {
   "cell_type": "code",
   "execution_count": 5,
   "metadata": {},
   "outputs": [
    {
     "name": "stdout",
     "output_type": "stream",
     "text": [
      "const mean power:  1.0\n",
      "const.shape:  (1, 16)\n"
     ]
    }
   ],
   "source": [
    "# Constants\n",
    "c     = 299792458\n",
    "\n",
    "constellation = tx.qammod(M)\n",
    "print('const mean power: ', np.mean(np.abs(constellation)**2))\n",
    "print('const.shape: ', constellation.shape)"
   ]
  },
  {
   "cell_type": "code",
   "execution_count": 6,
   "metadata": {},
   "outputs": [],
   "source": [
    "def run_model(param, ssfParam):\n",
    "    tf.reset_default_graph()\n",
    "    \n",
    "    beta2 = tf.constant( ssfParam.D * 1e-6 * ( c / ssfParam.Fc )**2 / ( 2 * np.pi * c ), param.realType )\n",
    "    dz = tf.constant( ssfParam.spanLength * 1e3 * ssfParam.nSpans, param.realType )\n",
    "\n",
    "    X = tf.placeholder(tf.float32, shape=(None, param.nChannels, param.nPol, param.nSamples, M))\n",
    "    constellation_tf = tf.constant(constellation, param.complexType)\n",
    "\n",
    "    txSymbols = cfh.QAMencoder(X, constellation_tf, realOutput=False)\n",
    "\n",
    "    signal = cfs.wdmTransmitter(txSymbols, param, frequencyShift=frequencyShift)\n",
    "\n",
    "    ssfParam.stepSize = tf.placeholder(param.realType, shape=(ssfParam.nSpans, ssfParam.nSteps))\n",
    "    signal_out = ssf.model(ssfParam, signal)\n",
    "\n",
    "    signal_disp = cfh.dispersion_compensation(signal_out, beta2, dz, ssfParam.N, ssfParam.Fs)\n",
    "\n",
    "    rxSymbols = cfs.wdmReceiver(signal_disp, param, frequencyShift=frequencyShift)\n",
    "\n",
    "    # error counting\n",
    "    rxSymbols_tiled = tf.tile( tf.expand_dims( rxSymbols, -1 ), [1,1,1,1,M] )\n",
    "    rxIdx = tf.argmin( tf.abs( rxSymbols_tiled - constellation_tf ), axis=-1 )\n",
    "\n",
    "    txSymbols_tiled = tf.tile( tf.expand_dims( txSymbols, -1 ), [1,1,1,1,M] )\n",
    "    txIdx = tf.argmin( tf.abs( txSymbols_tiled - constellation_tf ), axis=-1 )\n",
    "\n",
    "    errors = tf.reduce_sum( tf.cast( tf.not_equal( txIdx, rxIdx ), tf.int32 ) )\n",
    "    errorrate = tf.reduce_mean( tf.cast( tf.not_equal( txIdx, rxIdx ), tf.float32 ) )\n",
    "\n",
    "    # effSNR\n",
    "    estNoisePower = tf.reduce_mean( tf.square( tf.abs( txSymbols - rxSymbols ) ) )\n",
    "    signalPower = tf.constant( 1 / param.nPol, param.realType)\n",
    "    effSNR = cfh.lin2dB( signalPower / estNoisePower, 'dB' )\n",
    "\n",
    "    # MI\n",
    "    MI = cfh.gaussianMI(tf.reshape(txSymbols,[-1]), tf.reshape(rxSymbols,[-1]), constellation_tf, M)\n",
    "\n",
    "    avg_errorrate, avg_errorrate_update, avg_errorrate_reset = cfh.create_reset_metric(tf.metrics.mean, 'errorrate_metric', errorrate)\n",
    "    avg_MI, avg_MI_update, avg_MI_reset = cfh.create_reset_metric(tf.metrics.mean, 'MI_metric', MI)\n",
    "    avg_effSNR, avg_effSNR_update, avg_effSNR_reset = cfh.create_reset_metric(tf.metrics.mean, 'effSNR_metric', effSNR)\n",
    "    update_ops = [avg_errorrate_update, avg_MI_update, avg_effSNR_update]\n",
    "    reset_ops = [avg_errorrate_reset, avg_MI_reset, avg_effSNR_reset]\n",
    "\n",
    "    init = tf.global_variables_initializer()\n",
    "\n",
    "    sess = tf.Session()\n",
    "    sess.run(init)\n",
    "\n",
    "    sess.run(reset_ops)\n",
    "    for mcRun in range(runs):\n",
    "        print(mcRun, end=' ', flush=True)\n",
    "        randomisedStepSize = ssf.randomizeSteps(ssfParam.stepSizeTemplate, ssfParam.spanLength, ssfParam.nSpans)\n",
    "        x, idx, x_seed = cu.hotOnes((batch_size, param.nChannels, param.nPol, param.nSamples),(1,2,3,4,0),M)\n",
    "        feedDict = { X:x, ssfParam.stepSize:randomisedStepSize }\n",
    "        sess.run(update_ops, feed_dict=feedDict)\n",
    "\n",
    "    [avErrorrate, avMI, avEffSNR] = sess.run([avg_errorrate, avg_MI, avg_effSNR])\n",
    "\n",
    "    print('avErrorrate: {:.2f}, avMI: {:.2f}: avEffSnr: {:.2f}'.format(avErrorrate, avMI, avEffSNR))\n",
    "\n",
    "    sess.close()\n",
    "    print(' ')\n",
    "    return avErrorrate, avMI, avEffSNR"
   ]
  },
  {
   "cell_type": "code",
   "execution_count": 7,
   "metadata": {},
   "outputs": [
    {
     "name": "stdout",
     "output_type": "stream",
     "text": [
      "PdBm: -8\n",
      "nSpans: 10, nSteps: 1\n"
     ]
    },
    {
     "name": "stderr",
     "output_type": "stream",
     "text": [
      "WARNING: Logging before flag parsing goes to stderr.\n",
      "W0829 07:20:51.659239 139983439992512 lazy_loader.py:50] \n",
      "The TensorFlow contrib module will not be included in TensorFlow 2.0.\n",
      "For more information, please see:\n",
      "  * https://github.com/tensorflow/community/blob/master/rfcs/20180907-contrib-sunset.md\n",
      "  * https://github.com/tensorflow/addons\n",
      "  * https://github.com/tensorflow/io (for I/O related ops)\n",
      "If you depend on functionality not listed there, please file an issue.\n",
      "\n"
     ]
    },
    {
     "name": "stdout",
     "output_type": "stream",
     "text": [
      "0 1 2 3 4 avErrorrate: 0.04, avMI: 3.84: avEffSnr: 11.02\n",
      " \n",
      "PdBm: -7\n",
      "nSpans: 10, nSteps: 1\n",
      "0 1 2 3 4 avErrorrate: 0.02, avMI: 3.92: avEffSnr: 11.97\n",
      " \n",
      "PdBm: -6\n",
      "nSpans: 10, nSteps: 1\n",
      "0 1 2 3 4 avErrorrate: 0.01, avMI: 3.97: avEffSnr: 12.94\n",
      " \n",
      "PdBm: -5\n",
      "nSpans: 10, nSteps: 1\n",
      "0 1 2 3 4 avErrorrate: 0.00, avMI: 3.99: avEffSnr: 13.96\n",
      " \n",
      "PdBm: -4\n",
      "nSpans: 10, nSteps: 1\n",
      "0 1 2 3 4 avErrorrate: 0.00, avMI: 4.00: avEffSnr: 14.93\n",
      " \n",
      "PdBm: -3\n",
      "nSpans: 10, nSteps: 1\n",
      "0 1 2 3 4 avErrorrate: 0.00, avMI: 4.00: avEffSnr: 15.89\n",
      " \n",
      "PdBm: -2\n",
      "nSpans: 10, nSteps: 1\n",
      "0 1 2 3 4 avErrorrate: 0.00, avMI: 4.00: avEffSnr: 16.88\n",
      " \n",
      "PdBm: -1\n",
      "nSpans: 10, nSteps: 1\n",
      "0 1 2 3 4 avErrorrate: 0.00, avMI: 4.00: avEffSnr: 17.87\n",
      " \n",
      "PdBm: 0\n",
      "nSpans: 10, nSteps: 1\n",
      "0 1 2 3 4 avErrorrate: 0.00, avMI: 4.00: avEffSnr: 18.84\n",
      " \n",
      "PdBm: 1\n",
      "nSpans: 10, nSteps: 1\n",
      "0 1 2 3 4 avErrorrate: 0.00, avMI: 4.00: avEffSnr: 19.83\n",
      " \n"
     ]
    }
   ],
   "source": [
    "powerSweep = np.arange(-8, 2, 2)\n",
    "SSFeffSNR = np.zeros(powerSweep.shape)\n",
    "for PdBm in powerSweep:\n",
    "    print('PdBm: {}'.format(PdBm))\n",
    "    param.PdBm = PdBm\n",
    "#     if PdBm < -5:        \n",
    "#     else:\n",
    "    (avErrorrate, avMI, avEffSNR) = run_model(param, ssfParam)\n",
    "    SSFeffSNR.append(avEffSNR)"
   ]
  },
  {
   "cell_type": "code",
   "execution_count": 8,
   "metadata": {},
   "outputs": [],
   "source": [
    "# [out_txSymbols, out_rxSymbols] = sess.run([txSymbols, rxSymbols], feed_dict=feedDict)"
   ]
  },
  {
   "cell_type": "code",
   "execution_count": 9,
   "metadata": {},
   "outputs": [],
   "source": [
    "# plt.plot(np.real(out_rxSymbols[0,0,0,:]), np.imag(out_rxSymbols[0,0,0,:]), '.');\n",
    "# plt.plot(np.real(out_txSymbols[0,0,0,:]), np.imag(out_txSymbols[0,0,0,:]), 'x');\n",
    "# plt.axis('square');"
   ]
  },
  {
   "cell_type": "code",
   "execution_count": 10,
   "metadata": {},
   "outputs": [],
   "source": [
    "import claude.models.NLIN as nlin"
   ]
  },
  {
   "cell_type": "code",
   "execution_count": 11,
   "metadata": {},
   "outputs": [
    {
     "name": "stdout",
     "output_type": "stream",
     "text": [
      "nPol:\t2\n",
      "lambda_:\t1.55003597538907e-06\n",
      "Fc:\t193410000000000.0\n",
      "D:\t16.464\n",
      "alpha:\t0.2\n",
      "beta2:\t20.999953937404488\n",
      "gamma:\t1.3\n",
      "nSpans:\t10\n",
      "spanLength:\t100\n",
      "noiseFigure:\t5\n",
      "PdBm:\t1\n",
      "Rs:\t32\n",
      "channels:\t[-100.  -50.    0.   50.  100.]\n",
      "nChannels:\t5\n",
      "chSpacing:\t50\n",
      "kur:\t1.32\n",
      "kur3:\t1.9600000000000002\n",
      "N_mc:\t1000000\n",
      "PD:\t0\n",
      "\n"
     ]
    }
   ],
   "source": [
    "# System parameters\n",
    "nlinParam = nlin.defaultParameters()\n",
    "nlinParam.nSpans = ssfParam.nSpans\n",
    "\n",
    "power = np.mean(np.abs(constellation)**2)\n",
    "nlinParam.kur  = np.mean(np.abs(constellation)**4) / power**2\n",
    "nlinParam.kur3 = np.mean(np.abs(constellation)**6) / power**3\n",
    "\n",
    "print(nlinParam)"
   ]
  },
  {
   "cell_type": "code",
   "execution_count": 12,
   "metadata": {},
   "outputs": [],
   "source": [
    "# Calculate System constants\n",
    "chi = np.zeros( (2, nlinParam.nChannels) )\n",
    "intraConstAdd = np.zeros( (5, nlinParam.nChannels) )\n",
    "interConstAdd = np.zeros( (4, nlinParam.nChannels) )\n",
    "for ii,channel in enumerate(nlinParam.channels):\n",
    "    nlinParam.chSpacing = channel\n",
    "    chi[:,ii] = nlin.calcInterConstants(nlinParam)\n",
    "    intraConstAdd[:,ii] = nlin.calcIntraConstantsAddTerms(nlinParam)\n",
    "    interConstAdd[:,ii] = nlin.calcInterConstantsAddTerms(nlinParam)\n",
    "    \n",
    "X = nlin.calcIntraConstants(nlinParam)\n",
    "nlin.calcAseNoisePower = nlin.calcAseNoisePower(nlinParam)"
   ]
  },
  {
   "cell_type": "code",
   "execution_count": 13,
   "metadata": {},
   "outputs": [],
   "source": [
    "nlinPowerSweep = np.arange(-8, 2, 0.1)\n",
    "NLINinter = np.zeros(nlinPowerSweep.shape)\n",
    "NLINintra = np.zeros(nlinPowerSweep.shape)\n",
    "\n",
    "NLINinterAdd = np.zeros(nlinPowerSweep.shape)\n",
    "NLINintraAdd = np.zeros(nlinPowerSweep.shape)\n",
    "\n",
    "for ii,PdBm in enumerate(nlinPowerSweep):\n",
    "    nlinParam.PdBm = PdBm\n",
    "    NLINinter[ii] = np.sum( nlin.calcInterChannelNLIN(chi,nlinParam) )\n",
    "    NLINintra[ii] = nlin.calcIntraChannelNLIN(X,nlinParam)[0]\n",
    "    \n",
    "    NLINinterAdd[ii] = np.sum( nlin.calcInterChannelNLINAddTerms(interConstAdd,nlinParam) )\n",
    "    NLINintraAdd[ii] = np.sum( nlin.calcIntraChannelNLIN(intraConstAdd,nlinParam) )\n",
    "    \n",
    "# effective SNR\n",
    "NLINeffSNR = nlinPowerSweep - cu.lin2dB( nlin.calcAseNoisePower+NLINinter+NLINintra+NLINinterAdd+NLINintraAdd, 'dBm')"
   ]
  },
  {
   "cell_type": "code",
   "execution_count": 14,
   "metadata": {},
   "outputs": [
    {
     "data": {
      "image/png": "[encoded data removed]",
      "text/plain": [
       "<Figure size 432x288 with 1 Axes>"
      ]
     },
     "metadata": {
      "needs_background": "light"
     },
     "output_type": "display_data"
    }
   ],
   "source": [
    "plt.plot(nlinPowerSweep, NLINeffSNR, 'b')\n",
    "plt.plot(powerSweep, np.array(SSFeffSNR), 'x')\n",
    "plt.title('Power [dBm] VS effective SNR')\n",
    "plt.xlabel('Power [dBm]')\n",
    "plt.ylabel('effective SNR [dB]')\n",
    "plt.show()"
   ]
  },
  {
   "cell_type": "code",
   "execution_count": null,
   "metadata": {},
   "outputs": [],
   "source": []
  }
 ],
 "metadata": {
  "kernelspec": {
   "display_name": "Python 3",
   "language": "python",
   "name": "python3"
  },
  "language_info": {
   "codemirror_mode": {
    "name": "ipython",
    "version": 3
   },
   "file_extension": ".py",
   "mimetype": "text/x-python",
   "name": "python",
   "nbconvert_exporter": "python",
   "pygments_lexer": "ipython3",
   "version": "3.6.5"
  }
 },
 "nbformat": 4,
 "nbformat_minor": 2
}
