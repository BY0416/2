{
 "cells": [
  {
   "cell_type": "code",
   "execution_count": 1,
   "metadata": {},
   "outputs": [],
   "source": [
    "%matplotlib inline\n",
    "import matplotlib\n",
    "import tensorflow as tf\n",
    "import numpy as np\n",
    "import matplotlib.pyplot as plt\n",
    "import scipy.io"
   ]
  },
  {
   "cell_type": "code",
   "execution_count": 2,
   "metadata": {},
   "outputs": [],
   "source": [
    "import claude.utils as cu\n",
    "import claude.tx as tx\n",
    "import claude.claudeflow.systems as cfs\n",
    "import claude.claudeflow.training as cft\n",
    "import claude.claudeflow.helper as cfh\n",
    "import claude.claudeflow.models.SSFstatic as ssf"
   ]
  },
  {
   "cell_type": "code",
   "execution_count": 3,
   "metadata": {},
   "outputs": [],
   "source": [
    "# True:  runs on cluster with GPU etc\n",
    "# False: can run localy\n",
    "runWithNonlinear = False"
   ]
  },
  {
   "cell_type": "code",
   "execution_count": 4,
   "metadata": {},
   "outputs": [
    {
     "name": "stdout",
     "output_type": "stream",
     "text": [
      "M:\t16\n",
      "nPol:\t2\n",
      "sps:\t16\n",
      "nSamples:\t1024\n",
      "rollOff:\t0.05\n",
      "filterSpan:\t128\n",
      "optimizeP:\tFalse\n",
      "PdBm:\t1\n",
      "Rs:\t32000000000.0\n",
      "channels:\t[-100.  -50.    0.   50.  100.]\n",
      "nChannels:\t5\n",
      "frequencyShift:\tTrue\n",
      "dispersionCompensation:\tFalse\n",
      "beta2:\t2.0999953937404486e-26\n",
      "dz:\t1000000.0\n",
      "Fs:\t512000000000.0\n",
      "N:\t16384\n",
      "realType:\t<dtype: 'float64'>\n",
      "complexType:\t<dtype: 'complex128'>\n",
      "\n"
     ]
    }
   ],
   "source": [
    "# Tx\n",
    "param = cfs.defaultParameters(precision='double')\n",
    "\n",
    "if runWithNonlinear:\n",
    "    param.sps = 16\n",
    "    param.nSamples = 1024\n",
    "    \n",
    "    batch_size = 1\n",
    "    runs = 20\n",
    "    removeSymbols = 32\n",
    "else:\n",
    "    batch_size = 2\n",
    "    runs = 5\n",
    "    removeSymbols = 32\n",
    "    \n",
    "param.M  = 64\n",
    "param.Fs = param.sps * param.Rs\n",
    "print(param)"
   ]
  },
  {
   "cell_type": "code",
   "execution_count": 5,
   "metadata": {},
   "outputs": [
    {
     "name": "stdout",
     "output_type": "stream",
     "text": [
      "Fs:\t512000000000.0\n",
      "N:\t16384\n",
      "nSteps:\t2\n",
      "stepSize:\t100\n",
      "ampScheme:\tEDFA\n",
      "noiseEnabled:\tTrue\n",
      "manakovEnabled:\tTrue\n",
      "dispersionCompensationEnabled:\tFalse\n",
      "checkpointInverval:\t2\n",
      "nPol:\t2\n",
      "lambda_:\t1.55003597538907e-06\n",
      "Fc:\t193410000000000.0\n",
      "D:\t16.464\n",
      "alpha:\t0.2\n",
      "beta2:\t2.0999953937404486e-26\n",
      "gamma:\t0\n",
      "nSpans:\t10\n",
      "spanLength:\t100\n",
      "noiseFigure:\t5\n",
      "intType:\t<dtype: 'int32'>\n",
      "realType:\t<dtype: 'float64'>\n",
      "complexType:\t<dtype: 'complex128'>\n",
      "stepSizeTemplate:\t[ 7.52466421 92.47533579]\n",
      "\n"
     ]
    }
   ],
   "source": [
    "ssfParam = ssf.defaultParameters(precision='double')\n",
    "ssfParam.Fs = param.Fs\n",
    "ssfParam.N = param.sps * param.nSamples\n",
    "ssfParam.noiseEnabled = True\n",
    "ssfParam.noiseFigure = 5\n",
    "ssfParam.nSpans = 10\n",
    "\n",
    "if runWithNonlinear:\n",
    "    ssfParam.gamma = 1.3\n",
    "    ssfParam.nSteps = 350\n",
    "else:\n",
    "    ssfParam.gamma = 0\n",
    "    ssfParam.nSteps = 2\n",
    "\n",
    "# ssfParam.stepSize = ssfParam.spanLength/ssfParam.nSteps\n",
    "# ssfParam.stepSizeTemplate = ssfParam.stepSize * np.ones((ssfParam.nSteps,)) # constant stepsize\n",
    "\n",
    "ssfParam.stepSizeTemplate = ssf.logStepSizes(ssfParam.spanLength, ssfParam.alpha, ssfParam.nSteps) # log stepsize\n",
    "\n",
    "print(ssfParam)"
   ]
  },
  {
   "cell_type": "code",
   "execution_count": 6,
   "metadata": {},
   "outputs": [
    {
     "name": "stdout",
     "output_type": "stream",
     "text": [
      "const mean power:  1.0\n",
      "const.shape:  (1, 16)\n"
     ]
    }
   ],
   "source": [
    "# Constants\n",
    "c = 299792458\n",
    "constellation = tx.qammod(param.M)\n",
    "print('const mean power: ', np.mean(np.abs(constellation)**2))\n",
    "print('const.shape: ', constellation.shape)"
   ]
  },
  {
   "cell_type": "code",
   "execution_count": 7,
   "metadata": {},
   "outputs": [],
   "source": [
    "def run_model(param, ssfParam):\n",
    "    tf.reset_default_graph()\n",
    "    \n",
    "    nDims = 4 # Dimension of X\n",
    "    X = tf.placeholder(tf.float32, shape=(None, param.nChannels, param.nPol, param.nSamples, param.M))\n",
    "    constellation_tf = tf.constant(constellation, param.complexType)\n",
    "\n",
    "    txSymbols = cfh.QAMencoder(X, constellation_tf, realOutput=False)\n",
    "\n",
    "    signal = cfs.wdmTransmitter(txSymbols, param)\n",
    "\n",
    "    ssfParam.stepSize = tf.placeholder(param.realType, shape=(ssfParam.nSpans, ssfParam.nSteps))\n",
    "    signal_out = ssf.model(ssfParam, signal)\n",
    "\n",
    "    param.dispersionCompensation = True\n",
    "    param.beta2  = ssfParam.D * 1e-6 * ( c / ssfParam.Fc )**2 / ( 2 * np.pi * c )\n",
    "    param.dz     = ssfParam.spanLength * 1e3 * ssfParam.nSpans\n",
    "    rxSymbols = cfs.wdmReceiver(signal_out, param)\n",
    "    \n",
    "    #\n",
    "    normP0 = tf.get_default_graph().get_tensor_by_name(\"normP0:0\")\n",
    "    rxSymbols = tf.cast( tf.rsqrt( normP0 ), param.complexType ) * rxSymbols\n",
    "    \n",
    "    # remove beginning and end of symbols\n",
    "    rxSymbols, txSymbols = cfh.truncate(removeSymbols, rxSymbols, txSymbols)\n",
    "\n",
    "    rxSymbols = cfh.staticPhaseRotationCompensation(rxSymbols)\n",
    "    rxSymbols = cfh.testPhases(constellation_tf, txSymbols, rxSymbols, nDims, param.M, nTestPhases=4) \n",
    "    \n",
    "    # metrics    \n",
    "    reduce_axis = [0, 2, 3]\n",
    "    errorrate = cfh.symbolErrorrate(constellation_tf, txSymbols, rxSymbols, nDims, param.M, reduce_axis)\n",
    "    \n",
    "    one = tf.constant( 1, param.realType )\n",
    "    effSNR = cfh.effectiveSNR(txSymbols, rxSymbols, one, reduce_axis)\n",
    "\n",
    "    # MI\n",
    "    MI = []\n",
    "    for (txChannel, rxChannel) in zip(tf.split(txSymbols, param.nChannels, axis=1), tf.split(rxSymbols, param.nChannels, axis=1)):\n",
    "        MI_temp = cfh.gaussianMI(tf.reshape(txChannel,[-1]), tf.reshape(rxChannel,[-1]), constellation_tf, param.M)\n",
    "        MI.append(MI_temp)\n",
    "\n",
    "    MI = tf.stack(MI)    \n",
    "    MI = tf.identity( MI, name='MI' )\n",
    "\n",
    "    # only mid channel\n",
    "    midChannel = param.nChannels//2 +1\n",
    "    errorrate = errorrate[midChannel]\n",
    "    MI = MI[midChannel]\n",
    "    effSNR = effSNR[midChannel]\n",
    "    \n",
    "    metricsDict = {'errorrate':errorrate, 'MI': MI, 'effSNR': effSNR}    \n",
    "    meanMetricOpsDict, updateOps, resetOps = cft.create_mean_metrics(metricsDict)\n",
    "    \n",
    "    init = tf.global_variables_initializer()\n",
    "\n",
    "    sess = tf.Session()\n",
    "    sess.run(init)\n",
    "\n",
    "    sess.run(resetOps)\n",
    "    for mcRun in range(runs):\n",
    "        print(mcRun, end=' ', flush=True)\n",
    "        randomisedStepSize = ssf.randomizeSteps(ssfParam.stepSizeTemplate, ssfParam.spanLength, ssfParam.nSpans)\n",
    "        x, idx, x_seed = cu.hotOnes((batch_size, param.nChannels, param.nPol, param.nSamples),(1,2,3,4,0),param.M)\n",
    "        feedDict = { X:x, ssfParam.stepSize:randomisedStepSize }\n",
    "        sess.run(updateOps, feed_dict=feedDict)\n",
    "    \n",
    "    outMetrics = sess.run(list(meanMetricOpsDict.values()), feed_dict=feedDict)\n",
    "    outMetrics = { key:val for key,val in zip(list(meanMetricOpsDict.keys()), outMetrics) }\n",
    "    \n",
    "    outString = ''\n",
    "    for key, value in outMetrics.items():\n",
    "        outString += ' - {}: {:.4f}'.format(key, value)\n",
    "    print(outString, flush=True)\n",
    "\n",
    "    sess.close()\n",
    "    print(' ')\n",
    "    return outMetrics['errorrate'], outMetrics['MI'], outMetrics['effSNR'], sess, feedDict"
   ]
  },
  {
   "cell_type": "code",
   "execution_count": 8,
   "metadata": {},
   "outputs": [
    {
     "name": "stdout",
     "output_type": "stream",
     "text": [
      "PdBm: -8 - nSpans: 10, nSteps: 2\n"
     ]
    },
    {
     "name": "stderr",
     "output_type": "stream",
     "text": [
      "WARNING: Logging before flag parsing goes to stderr.\n",
      "W0921 22:38:00.748847 140253124413248 lazy_loader.py:50] \n",
      "The TensorFlow contrib module will not be included in TensorFlow 2.0.\n",
      "For more information, please see:\n",
      "  * https://github.com/tensorflow/community/blob/master/rfcs/20180907-contrib-sunset.md\n",
      "  * https://github.com/tensorflow/addons\n",
      "  * https://github.com/tensorflow/io (for I/O related ops)\n",
      "If you depend on functionality not listed there, please file an issue.\n",
      "\n"
     ]
    },
    {
     "name": "stdout",
     "output_type": "stream",
     "text": [
      "0 1 2 3 4  - errorrate: 0.1703 - MI: 3.3556 - effSNR: 10.8651\n",
      " \n",
      "PdBm: -6 - nSpans: 10, nSteps: 2\n",
      "0 1 2 3 4  - errorrate: 0.0723 - MI: 3.7179 - effSNR: 12.8741\n",
      " \n",
      "PdBm: -4 - nSpans: 10, nSteps: 2\n",
      "0 1 2 3 4  - errorrate: 0.0186 - MI: 3.9229 - effSNR: 14.9224\n",
      " \n",
      "PdBm: -2 - nSpans: 10, nSteps: 2\n",
      "0 1 2 3 4  - errorrate: 0.0028 - MI: 3.9893 - effSNR: 16.8623\n",
      " \n",
      "PdBm: 0 - nSpans: 10, nSteps: 2\n",
      "0 1 2 3 4  - errorrate: 0.0001 - MI: 3.9997 - effSNR: 18.8457\n",
      " \n",
      "PdBm: 2 - nSpans: 10, nSteps: 2\n",
      "0 1 2 3 4  - errorrate: 0.0000 - MI: 4.0000 - effSNR: 20.8420\n",
      " \n",
      "PdBm: 4 - nSpans: 10, nSteps: 2\n",
      "0 1 2 3 4  - errorrate: 0.0000 - MI: 4.0000 - effSNR: 22.8584\n",
      " \n"
     ]
    }
   ],
   "source": [
    "powerSweep = np.arange(-8, 4+1, 2)\n",
    "SSFeffSNR = np.zeros(powerSweep.shape)\n",
    "SSFMI = np.zeros(powerSweep.shape)\n",
    "sess = 0\n",
    "feedDict = 0\n",
    "for ii, PdBm in enumerate(powerSweep):\n",
    "    print('PdBm: {}'.format(PdBm), end=' - ')\n",
    "    param.PdBm = PdBm\n",
    "    (avErrorrate, avMI, avEffSNR, sess, feedDict) = run_model(param, ssfParam)\n",
    "    SSFeffSNR[ii] = avEffSNR\n",
    "    SSFMI[ii] = avMI"
   ]
  },
  {
   "cell_type": "code",
   "execution_count": 9,
   "metadata": {},
   "outputs": [],
   "source": [
    "import claude.models.NLIN as nlin\n",
    "# System parameters\n",
    "qamParam = nlin.defaultParameters()\n",
    "qamParam.nSpans = ssfParam.nSpans\n",
    "# qamParam.gamma = ssfParam.gamma"
   ]
  },
  {
   "cell_type": "code",
   "execution_count": 10,
   "metadata": {},
   "outputs": [],
   "source": [
    "aseNoisePower, interConst, intraConst, intraConstAdd, interConstAdd = nlin.calcConstants(qamParam)\n",
    "nlinPowerSweep = np.arange(-8, 4+1, 0.1)"
   ]
  },
  {
   "cell_type": "code",
   "execution_count": 11,
   "metadata": {},
   "outputs": [],
   "source": [
    "# QAM\n",
    "qam_constellation = np.squeeze(tx.qammod(param.M))\n",
    "qamParam.kur, qamParam.kur3 = nlin.calcKur(qam_constellation)\n",
    "qamEffSNR = nlinPowerSweep - nlin.calcNLIN(qamParam, nlinPowerSweep, aseNoisePower, interConst, intraConst, interConstAdd, intraConstAdd)"
   ]
  },
  {
   "cell_type": "code",
   "execution_count": 12,
   "metadata": {},
   "outputs": [
    {
     "data": {
      "image/png": "[encoded data removed]",
      "text/plain": [
       "<Figure size 432x288 with 1 Axes>"
      ]
     },
     "metadata": {
      "needs_background": "light"
     },
     "output_type": "display_data"
    }
   ],
   "source": [
    "plt.plot(nlinPowerSweep, qamEffSNR, 'b')\n",
    "plt.plot(powerSweep, SSFeffSNR, 'xr')\n",
    "plt.title('Power [dBm] VS effective SNR')\n",
    "plt.xlabel('Power [dBm]')\n",
    "plt.ylabel('effective SNR [dB]')\n",
    "plt.show()"
   ]
  },
  {
   "cell_type": "code",
   "execution_count": 13,
   "metadata": {},
   "outputs": [],
   "source": [
    "qamMI = np.zeros(np.shape(qamEffSNR))\n",
    "N = 5e4\n",
    "\n",
    "for ii,p in enumerate(nlinPowerSweep):\n",
    "    qamMI[ii] = cu.SNRtoMI(N, qamEffSNR[ii], np.expand_dims(qam_constellation, 0))"
   ]
  },
  {
   "cell_type": "code",
   "execution_count": 14,
   "metadata": {},
   "outputs": [
    {
     "data": {
      "image/png": "[encoded data removed]",
      "text/plain": [
       "<Figure size 432x288 with 1 Axes>"
      ]
     },
     "metadata": {
      "needs_background": "light"
     },
     "output_type": "display_data"
    }
   ],
   "source": [
    "plt.plot(nlinPowerSweep, qamMI, 'b')\n",
    "plt.plot(powerSweep, SSFMI, 'xr')\n",
    "plt.title('Power [dBm] VS MI')\n",
    "plt.xlabel('Power [dBm]')\n",
    "plt.ylabel('MI [bits]')\n",
    "plt.show()"
   ]
  }
 ],
 "metadata": {
  "kernelspec": {
   "display_name": "Python 3",
   "language": "python",
   "name": "python3"
  },
  "language_info": {
   "codemirror_mode": {
    "name": "ipython",
    "version": 3
   },
   "file_extension": ".py",
   "mimetype": "text/x-python",
   "name": "python",
   "nbconvert_exporter": "python",
   "pygments_lexer": "ipython3",
   "version": "3.6.5"
  }
 },
 "nbformat": 4,
 "nbformat_minor": 2
}
