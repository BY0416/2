{
 "cells": [
  {
   "cell_type": "code",
   "execution_count": 1,
   "metadata": {
    "nbpresent": {
     "id": "8a523017-d8fe-42ed-a673-4abc958439ed"
    }
   },
   "outputs": [],
   "source": [
    "%matplotlib inline\n",
    "import matplotlib\n",
    "import numpy as np\n",
    "import matplotlib.pyplot as plt\n",
    "\n",
    "import claude.utils as cu\n",
    "from claude.tx import qammod\n",
    "from claude.models.NLIN import defaultParameters,\\\n",
    "                               calcAseNoisePower,\\\n",
    "                               calcIntraConstants,calcInterConstants,\\\n",
    "                               calcIntraChannelNLIN,calcInterChannelNLIN,\\\n",
    "                               calcIntraChannelGN,calcInterChannelGN"
   ]
  },
  {
   "cell_type": "code",
   "execution_count": 2,
   "metadata": {
    "nbpresent": {
     "id": "5dc3f7bc-7f8f-4f58-bd81-77d6a839fd13"
    }
   },
   "outputs": [
    {
     "name": "stdout",
     "output_type": "stream",
     "text": [
      "lambda_:\t1.55003597538907e-06\n",
      "Fc:\t193410000000000.0\n",
      "PolMux:\t1\n",
      "gamma:\t1.3\n",
      "D:\t16.464\n",
      "beta2:\t20.999953937404488\n",
      "alpha:\t0.2\n",
      "Nspan:\t20\n",
      "L:\t100\n",
      "PD:\t0\n",
      "PdBm:\t2\n",
      "BaudRate:\t32\n",
      "ChSpacing:\t50\n",
      "kur:\t1.3809523809523807\n",
      "kur3:\t2.225785552316164\n",
      "N_mc:\t1000000\n",
      "NF:\t5\n",
      "M:\t64\n",
      "\n"
     ]
    }
   ],
   "source": [
    "# System parameters\n",
    "param = defaultParameters()\n",
    "\n",
    "param.M = 64\n",
    "constellation = qammod(param.M)\n",
    "\n",
    "power = np.mean(np.abs(constellation)**2)\n",
    "param.kur  = np.mean(np.abs(constellation)**4) / power**2\n",
    "param.kur3 = np.mean(np.abs(constellation)**6) / power**3\n",
    "\n",
    "print(param)"
   ]
  },
  {
   "cell_type": "code",
   "execution_count": 3,
   "metadata": {
    "nbpresent": {
     "id": "5d49379c-b517-4e20-9a28-ebd84906a42a"
    }
   },
   "outputs": [],
   "source": [
    "# Calculate System constants\n",
    "channels = np.array([-100., -50., 50., 100.])\n",
    "nChannels = channels.size\n",
    "chi = np.zeros( (2,nChannels) )\n",
    "for ii,channel in enumerate(channels):\n",
    "    param.ChSpacing = channel\n",
    "    chi[:,ii] = calcInterConstants(param)\n",
    "X = calcIntraConstants(param)\n",
    "calcAseNoisePower = calcAseNoisePower(param)"
   ]
  },
  {
   "cell_type": "code",
   "execution_count": 4,
   "metadata": {
    "nbpresent": {
     "id": "77bbe4bb-8d01-4786-9771-b4245a247aa4"
    }
   },
   "outputs": [],
   "source": [
    "# Sweep power and calculate different NLIN and GN interference\n",
    "powerSweep = np.arange(-10,6)\n",
    "NLINinter = np.zeros(powerSweep.shape)\n",
    "NLINintra = np.zeros(powerSweep.shape)\n",
    "\n",
    "GNinter = np.zeros(powerSweep.shape)\n",
    "GNintra = np.zeros(powerSweep.shape)\n",
    "\n",
    "for ii,PdBm in enumerate(powerSweep):\n",
    "    param.PdBm = PdBm\n",
    "    NLINinter[ii] = np.sum( calcInterChannelNLIN(chi,param) )\n",
    "    NLINintra[ii] = calcIntraChannelNLIN(X,param)[0]\n",
    "    \n",
    "    GNinter[ii] = np.sum( calcInterChannelGN(chi,param) )\n",
    "    GNintra[ii] = calcIntraChannelGN(X,param)[0]"
   ]
  },
  {
   "cell_type": "code",
   "execution_count": 5,
   "metadata": {
    "nbpresent": {
     "id": "9d534b9e-fe20-486e-9d18-081c1d8ac9bb"
    }
   },
   "outputs": [],
   "source": [
    "# effective SNR\n",
    "NLINeffSNR = powerSweep - cu.lin2dB( calcAseNoisePower+NLINinter+NLINintra, 'dBm')\n",
    "GNeffSNR = powerSweep - cu.lin2dB( calcAseNoisePower+GNinter+GNintra, 'dBm')"
   ]
  },
  {
   "cell_type": "code",
   "execution_count": 6,
   "metadata": {},
   "outputs": [],
   "source": [
    "# Nonlinear Wizard http://nlinwizard.eng.tau.ac.il\n",
    "wizard_powerSweep = [-10, -8, -6,-4, -2, 0, 2, 4]\n",
    "wizard_effSNR = [5.91,7.90, 9.88, 11.80, 13.49, 14.43, 13.73, 11.20]"
   ]
  },
  {
   "cell_type": "code",
   "execution_count": 7,
   "metadata": {},
   "outputs": [],
   "source": [
    "# Fehenberger GN https://www.fehenberger.de/#sourcecode\n",
    "fehen_powerSweep = [-10, -8, -6, -4, -2, 0, 2, 4]\n",
    "fehen_effSNR = [5.9016, 7.8922, 9.8550, 11.7102, 13.1774, 13.5348, 12.0059, 8.9346]"
   ]
  },
  {
   "cell_type": "code",
   "execution_count": 8,
   "metadata": {
    "nbpresent": {
     "id": "e8d1dac0-05b8-44c6-9e0a-bc7393fb1289"
    }
   },
   "outputs": [
    {
     "data": {
      "image/png": "[encoded data removed]",
      "text/plain": [
       "<Figure size 432x288 with 1 Axes>"
      ]
     },
     "metadata": {
      "needs_background": "light"
     },
     "output_type": "display_data"
    }
   ],
   "source": [
    "plt.plot(powerSweep, NLINeffSNR,'b')\n",
    "plt.plot(powerSweep, GNeffSNR,'r')\n",
    "plt.plot(wizard_powerSweep, wizard_effSNR,'bx')\n",
    "plt.plot(fehen_powerSweep, fehen_effSNR,'rx')\n",
    "plt.title('Power [dBm] VS effective SNR')\n",
    "plt.xlabel('Power [dBm]')\n",
    "plt.ylabel('effective SNR [dB]')\n",
    "plt.show()"
   ]
  }
 ],
 "metadata": {
  "kernelspec": {
   "display_name": "Python 3",
   "language": "python",
   "name": "python3"
  },
  "language_info": {
   "codemirror_mode": {
    "name": "ipython",
    "version": 3
   },
   "file_extension": ".py",
   "mimetype": "text/x-python",
   "name": "python",
   "nbconvert_exporter": "python",
   "pygments_lexer": "ipython3",
   "version": "3.6.5"
  }
 },
 "nbformat": 4,
 "nbformat_minor": 2
}
