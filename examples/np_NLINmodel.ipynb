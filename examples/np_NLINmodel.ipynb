{
 "cells": [
  {
   "cell_type": "code",
   "execution_count": 1,
   "metadata": {
    "nbpresent": {
     "id": "8a523017-d8fe-42ed-a673-4abc958439ed"
    }
   },
   "outputs": [
    {
     "ename": "ModuleNotFoundError",
     "evalue": "No module named 'claude'",
     "output_type": "error",
     "traceback": [
      "\u001b[0;31m---------------------------------------------------------------------------\u001b[0m",
      "\u001b[0;31mModuleNotFoundError\u001b[0m                       Traceback (most recent call last)",
      "\u001b[0;32m<ipython-input-1-c57abf86cf25>\u001b[0m in \u001b[0;36m<module>\u001b[0;34m()\u001b[0m\n\u001b[1;32m      4\u001b[0m \u001b[0;32mimport\u001b[0m \u001b[0mmatplotlib\u001b[0m\u001b[0;34m.\u001b[0m\u001b[0mpyplot\u001b[0m \u001b[0;32mas\u001b[0m \u001b[0mplt\u001b[0m\u001b[0;34m\u001b[0m\u001b[0m\n\u001b[1;32m      5\u001b[0m \u001b[0;34m\u001b[0m\u001b[0m\n\u001b[0;32m----> 6\u001b[0;31m \u001b[0;32mimport\u001b[0m \u001b[0mclaude\u001b[0m\u001b[0;34m.\u001b[0m\u001b[0mutils\u001b[0m \u001b[0;32mas\u001b[0m \u001b[0mcu\u001b[0m\u001b[0;34m\u001b[0m\u001b[0m\n\u001b[0m\u001b[1;32m      7\u001b[0m \u001b[0;32mfrom\u001b[0m \u001b[0mclaude\u001b[0m\u001b[0;34m.\u001b[0m\u001b[0mtx\u001b[0m \u001b[0;32mimport\u001b[0m \u001b[0mqammod\u001b[0m\u001b[0;34m\u001b[0m\u001b[0m\n\u001b[1;32m      8\u001b[0m \u001b[0;32mfrom\u001b[0m \u001b[0mclaude\u001b[0m\u001b[0;34m.\u001b[0m\u001b[0mmodels\u001b[0m\u001b[0;34m.\u001b[0m\u001b[0mNLIN\u001b[0m \u001b[0;32mimport\u001b[0m \u001b[0mdefaultParameters\u001b[0m\u001b[0;34m,\u001b[0m                               \u001b[0mcalcAseNoisePower\u001b[0m\u001b[0;34m,\u001b[0m                               \u001b[0mcalcIntraConstants\u001b[0m\u001b[0;34m,\u001b[0m\u001b[0mcalcInterConstants\u001b[0m\u001b[0;34m,\u001b[0m                               \u001b[0mcalcIntraChannelNLIN\u001b[0m\u001b[0;34m,\u001b[0m\u001b[0mcalcInterChannelNLIN\u001b[0m\u001b[0;34m,\u001b[0m                               \u001b[0mcalcIntraChannelGM\u001b[0m\u001b[0;34m,\u001b[0m\u001b[0mcalcInterChannelGM\u001b[0m\u001b[0;34m\u001b[0m\u001b[0m\n",
      "\u001b[0;31mModuleNotFoundError\u001b[0m: No module named 'claude'"
     ]
    }
   ],
   "source": [
    "%matplotlib inline\n",
    "import matplotlib\n",
    "import numpy as np\n",
    "import matplotlib.pyplot as plt\n",
    "\n",
    "import claude.utils as cu\n",
    "from claude.tx import qammod\n",
    "from claude.models.NLIN import defaultParameters,\\\n",
    "                               calcAseNoisePower,\\\n",
    "                               calcIntraConstants,calcInterConstants,\\\n",
    "                               calcIntraChannelNLIN,calcInterChannelNLIN,\\\n",
    "                               calcIntraChannelGM,calcInterChannelGM"
   ]
  },
  {
   "cell_type": "code",
   "execution_count": null,
   "metadata": {
    "collapsed": true,
    "nbpresent": {
     "id": "5dc3f7bc-7f8f-4f58-bd81-77d6a839fd13"
    }
   },
   "outputs": [],
   "source": [
    "# System parameters\n",
    "param = defaultParameters()\n",
    "\n",
    "param.M = 64\n",
    "constellation = qammod(param.M)\n",
    "\n",
    "power = np.mean(np.abs(constellation)**2)\n",
    "param.kur  = np.mean(np.abs(constellation)**4) / power**2\n",
    "param.kur3 = np.mean(np.abs(constellation)**6) / power**3\n",
    "\n",
    "print(param)"
   ]
  },
  {
   "cell_type": "code",
   "execution_count": null,
   "metadata": {
    "collapsed": true,
    "nbpresent": {
     "id": "5d49379c-b517-4e20-9a28-ebd84906a42a"
    }
   },
   "outputs": [],
   "source": [
    "# Calculate System constants\n",
    "channels = np.array([-100., -50., 50., 100.])\n",
    "nChannels = channels.size\n",
    "chi = np.zeros( (2,nChannels) )\n",
    "for ii,channel in enumerate(channels):\n",
    "    param.ChSpacing = channel\n",
    "    chi[:,ii] = calcInterConstants(param)\n",
    "X = calcIntraConstants(param)\n",
    "calcAseNoisePower = calcAseNoisePower(param)"
   ]
  },
  {
   "cell_type": "code",
   "execution_count": null,
   "metadata": {
    "collapsed": true,
    "nbpresent": {
     "id": "77bbe4bb-8d01-4786-9771-b4245a247aa4"
    }
   },
   "outputs": [],
   "source": [
    "# Sweep power and calculate different NLIN and GM interference\n",
    "powerSweep = np.arange(-10,6)\n",
    "NLINinter = np.zeros(powerSweep.shape)\n",
    "NLINintra = np.zeros(powerSweep.shape)\n",
    "\n",
    "GMinter = np.zeros(powerSweep.shape)\n",
    "GMintra = np.zeros(powerSweep.shape)\n",
    "\n",
    "for ii,PdBm in enumerate(powerSweep):\n",
    "    param.PdBm = PdBm\n",
    "    NLINinter[ii] = np.sum( calcInterChannelNLIN(chi,param) )\n",
    "    NLINintra[ii] = calcIntraChannelNLIN(X,param)[0]\n",
    "    \n",
    "    GMinter[ii] = np.sum( calcInterChannelGM(chi,param) )\n",
    "    GMintra[ii] = calcIntraChannelGM(X,param)[0]"
   ]
  },
  {
   "cell_type": "code",
   "execution_count": null,
   "metadata": {
    "collapsed": true,
    "nbpresent": {
     "id": "9d534b9e-fe20-486e-9d18-081c1d8ac9bb"
    }
   },
   "outputs": [],
   "source": [
    "# effective SNR\n",
    "NLINeffSNR = powerSweep - cu.lin2dB( calcAseNoisePower+NLINinter+NLINintra, 'dBm')\n",
    "GMeffSNR = powerSweep - cu.lin2dB( calcAseNoisePower+GMinter+GMintra, 'dBm')"
   ]
  },
  {
   "cell_type": "code",
   "execution_count": null,
   "metadata": {
    "collapsed": true
   },
   "outputs": [],
   "source": [
    "# Nonlinear Wizard http://nlinwizard.eng.tau.ac.il\n",
    "wizard_powerSweep = [-10, -8, -6,-4, -2, 0, 2, 4]\n",
    "wizard_effSNR = [5.91,7.90, 9.88, 11.80, 13.49, 14.43, 13.73, 11.20]"
   ]
  },
  {
   "cell_type": "code",
   "execution_count": null,
   "metadata": {
    "collapsed": true
   },
   "outputs": [],
   "source": [
    "# Fehenberger GM https://www.fehenberger.de/#sourcecode\n",
    "fehen_powerSweep = [-10, -8, -6, -4, -2, 0, 2, 4]\n",
    "fehen_effSNR = [5.9016, 7.8922, 9.8550, 11.7102, 13.1774, 13.5348, 12.0059, 8.9346]"
   ]
  },
  {
   "cell_type": "code",
   "execution_count": null,
   "metadata": {
    "collapsed": true,
    "nbpresent": {
     "id": "e8d1dac0-05b8-44c6-9e0a-bc7393fb1289"
    }
   },
   "outputs": [],
   "source": [
    "plt.plot(powerSweep, NLINeffSNR,'b')\n",
    "plt.plot(powerSweep, GMeffSNR,'r')\n",
    "plt.plot(wizard_powerSweep, wizard_effSNR,'bx')\n",
    "plt.plot(fehen_powerSweep, fehen_effSNR,'rx')\n",
    "plt.title('Power [dBm] VS effective SNR')\n",
    "plt.xlabel('Power [dBm]')\n",
    "plt.ylabel('effective SNR [dB]')\n",
    "plt.show()"
   ]
  }
 ],
 "metadata": {
  "kernelspec": {
   "display_name": "Python 3",
   "language": "python",
   "name": "python3"
  },
  "language_info": {
   "codemirror_mode": {
    "name": "ipython",
    "version": 3
   },
   "file_extension": ".py",
   "mimetype": "text/x-python",
   "name": "python",
   "nbconvert_exporter": "python",
   "pygments_lexer": "ipython3",
   "version": "3.6.3"
  }
 },
 "nbformat": 4,
 "nbformat_minor": 2
}
