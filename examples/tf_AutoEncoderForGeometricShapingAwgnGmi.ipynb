{
 "cells": [
  {
   "cell_type": "code",
   "execution_count": 1,
   "metadata": {},
   "outputs": [],
   "source": [
    "%matplotlib inline\n",
    "import matplotlib\n",
    "import numpy as np\n",
    "import matplotlib.pyplot as plt\n",
    "import tensorflow as tf\n",
    "import scipy.io\n",
    "from tensorflow.python.framework import function\n",
    "\n",
    "import os, re\n",
    "\n",
    "import claude.utils as cu\n",
    "import claude.claudeflow.autoencoder as ae\n",
    "import claude.claudeflow.helper as cfh"
   ]
  },
  {
   "cell_type": "code",
   "execution_count": 2,
   "metadata": {},
   "outputs": [
    {
     "name": "stdout",
     "output_type": "stream",
     "text": [
      "M=16,SNR=10,seed=1337\n"
     ]
    }
   ],
   "source": [
    "# Parameters\n",
    "# Channel Parameters\n",
    "chParam = cu.AttrDict()\n",
    "chParam.M = 16\n",
    "chParam.w = int(np.log2(chParam.M))\n",
    "if chParam.M == 16:\n",
    "    chParam.SNR = 10\n",
    "elif chParam.M == 64:\n",
    "    chParam.SNR = 18\n",
    "else:\n",
    "    chParam.SNR = 22\n",
    "\n",
    "# Auto-Encoder Parameters\n",
    "aeParam = cu.AttrDict()\n",
    "aeParam.seed = 1337\n",
    "aeParam.dimension\t= 2\n",
    "aeParam.nLayers\t\t= 4\n",
    "aeParam.hiddenUnits\t= 256\n",
    "aeParam.activation  = tf.nn.relu\n",
    "aeParam.dropout\t\t= False\n",
    "aeParam.dtype       = tf.float32\n",
    "\n",
    "# Training Parameters\n",
    "trainingParam = cu.AttrDict()\n",
    "trainingParam.sampleSize\t= 16*chParam.M # Increase for better results (especially if M>16)\n",
    "trainingParam.batchSize \t= 1*chParam.M  # Increase for better results (especially if M>16)\n",
    "trainingParam.learningRate\t= 0.001\n",
    "trainingParam.displayStep\t= 25\n",
    "trainingParam.path\t\t\t= 'results_GMI_AWGN'\n",
    "trainingParam.filename\t\t= 'M{:03d}_seed{:04d}_SNR{:02d}'.format(chParam.M,aeParam.seed,chParam.SNR)\n",
    "trainingParam.earlyStopping = 25\n",
    "trainingParam.iterations = 500\n",
    "trainingParam.summaries = True\n",
    "\n",
    "if trainingParam.summaries:\n",
    "    # tensorboard directory\n",
    "    chHyperParam = ['M','SNR']\n",
    "    aeHyperParam = ['seed']\n",
    "    trainingHyperParam = []\n",
    "\n",
    "    trainingParam.summaryString = ','.join(  [ '{}={}'.format(item,chParam[item]) for item in chHyperParam ]\n",
    "                                            +[ '{}={}'.format(item,trainingParam[item]) for item in trainingHyperParam ]\n",
    "                                            +[ '{}={}'.format(item,aeParam[item]) for item in aeHyperParam ] )\n",
    "\n",
    "    print(trainingParam.summaryString,flush=True)"
   ]
  },
  {
   "cell_type": "code",
   "execution_count": 3,
   "metadata": {},
   "outputs": [],
   "source": [
    "# TF constants\n",
    "one = tf.constant(1,aeParam.dtype)\n",
    "two = tf.constant(2,aeParam.dtype)\n",
    "DIM = tf.constant(aeParam.dimension,aeParam.dtype)\n",
    "PI = tf.constant(np.pi,aeParam.dtype)"
   ]
  },
  {
   "cell_type": "markdown",
   "metadata": {},
   "source": [
    "## Comment on the following cell:\n",
    "When normalizing the constellation after the encoder, tensorflow has trouble to differentiate `tf.norm` with its autodiff. Instead we overwrite the autodiff with the analytical gradient of the specific norm we are using. "
   ]
  },
  {
   "cell_type": "code",
   "execution_count": 4,
   "metadata": {},
   "outputs": [],
   "source": [
    "# Normalization instability fix\n",
    "@function.Defun(aeParam.dtype, aeParam.dtype)\n",
    "def norm_grad(x, dy):\n",
    "    return dy*(x/(tf.norm(x)+1.0e-19))\n",
    "\n",
    "@function.Defun(aeParam.dtype, grad_func=norm_grad)\n",
    "def norm(x):\n",
    "    return tf.norm(x)\n",
    "\n",
    "def IQ_norm(enc_seed,epsilon=1e-12):\n",
    "    normHack = tf.stack([ norm(tf.squeeze(x)) for x in tf.split(enc_seed,num_or_size_splits=chParam.M)])\n",
    "    rmean = tf.reduce_mean( tf.square( normHack ) )\n",
    "    rsqrt = tf.rsqrt(tf.maximum(rmean, epsilon))    \n",
    "    return rsqrt"
   ]
  },
  {
   "cell_type": "code",
   "execution_count": 5,
   "metadata": {},
   "outputs": [],
   "source": [
    "tf.set_random_seed(aeParam.seed)\n",
    "np.random.seed(aeParam.seed)\n",
    "\n",
    "# Tx Graph\n",
    "allCombinations = cu.generateUniqueBitVectors(chParam.M)\n",
    "X = tf.placeholder( aeParam.dtype, shape=(None, chParam.w) )\n",
    "X_seed = tf.constant( allCombinations, aeParam.dtype )"
   ]
  },
  {
   "cell_type": "code",
   "execution_count": 6,
   "metadata": {},
   "outputs": [],
   "source": [
    "enc = ae.encoder(X,aeParam.hiddenUnits,aeParam.nLayers,aeParam.activation,nOutput=aeParam.dimension)\n",
    "enc_seed = ae.encoder(X_seed,aeParam.hiddenUnits,aeParam.nLayers,aeParam.activation,nOutput=aeParam.dimension)"
   ]
  },
  {
   "cell_type": "code",
   "execution_count": 7,
   "metadata": {},
   "outputs": [
    {
     "name": "stdout",
     "output_type": "stream",
     "text": [
      "WARNING:tensorflow:From /home/rasmus/.conda/envs/claudeOnline/lib/python3.6/site-packages/tensorflow/python/framework/function.py:986: calling Graph.create_op (from tensorflow.python.framework.ops) with compute_shapes is deprecated and will be removed in a future version.\n",
      "Instructions for updating:\n",
      "Shapes are always computed; don't use the compute_shapes as it has no effect.\n"
     ]
    }
   ],
   "source": [
    "norm_factor = IQ_norm(enc_seed)\n",
    "enc_norm = norm_factor*enc\n",
    "enc_seed_norm = norm_factor*enc_seed"
   ]
  },
  {
   "cell_type": "code",
   "execution_count": 8,
   "metadata": {},
   "outputs": [],
   "source": [
    "# Channel Graph\n",
    "SNR_lin = cfh.dB2lin(tf.constant(chParam.SNR,aeParam.dtype),'dB')\n",
    "sigma2_noise = one / SNR_lin\n",
    "noise = tf.sqrt(sigma2_noise) * tf.rsqrt(two) * tf.random_normal(shape=tf.shape(enc_norm),dtype=aeParam.dtype)\n",
    "channel = enc_norm + noise"
   ]
  },
  {
   "cell_type": "code",
   "execution_count": 9,
   "metadata": {},
   "outputs": [],
   "source": [
    "# Rx Graph\n",
    "decoder = ae.decoder(channel, aeParam.hiddenUnits, aeParam.nLayers, aeParam.activation, chParam.w)\n",
    "decoder_sigmoid = tf.sigmoid(decoder)"
   ]
  },
  {
   "cell_type": "code",
   "execution_count": 10,
   "metadata": {},
   "outputs": [],
   "source": [
    "# Neural Network GMI metric\n",
    "# the output of the neural network with sigmoid activation can serve as an LLR estimation :)\n",
    "# we basically assume that the decoder neural network has learned a probability distribution of the channel\n",
    "# which we use as auxiliary channel within the receiver\n",
    "sigmoid_LLRs = tf.linalg.transpose( tf.log( (one-decoder_sigmoid) / decoder_sigmoid ) )\n",
    "sigmoid_GMI = cfh.GMI( tf.linalg.transpose(X), sigmoid_LLRs )\n",
    "\n",
    "# Gaussian GMI metric\n",
    "# here we just use a Gaussian auxiliary channel assumption\n",
    "constellation = tf.expand_dims( tf.complex( enc_seed_norm[:,0], enc_seed_norm[:,1]), axis=0 )\n",
    "channel_complex = tf.expand_dims( tf.complex( channel[:,0], channel[:,1]), axis=0 )\n",
    "gaussian_LLRs = cfh.gaussianLLR( constellation, tf.linalg.transpose(X_seed), channel_complex, SNR_lin, chParam.M )\n",
    "gaussian_GMI = cfh.GMI( tf.linalg.transpose(X), gaussian_LLRs )\n",
    "\n",
    "# In this script, the channel is a Gaussian channel, so a Gaussian auxiliary channel assumption is optimal\n",
    "# Therefore: Gaussian GMI > Neural Network GMI"
   ]
  },
  {
   "cell_type": "code",
   "execution_count": 12,
   "metadata": {},
   "outputs": [],
   "source": [
    "# bit errors and ber\n",
    "input_bits = tf.cast( X , tf.int32 )\n",
    "output_bits = tf.cast( tf.round( tf.nn.sigmoid( decoder ) ), tf.int32 )\n",
    "bit_compare = tf.not_equal( output_bits, input_bits )\n",
    "bit_errors = tf.reduce_sum( tf.cast( bit_compare, tf.int32 ) ) \n",
    "bit_error_rate = tf.reduce_mean( tf.cast( bit_compare, aeParam.dtype ) )"
   ]
  },
  {
   "cell_type": "code",
   "execution_count": 14,
   "metadata": {},
   "outputs": [],
   "source": [
    "# loss\n",
    "loss = tf.reduce_mean( tf.nn.sigmoid_cross_entropy_with_logits( labels=X, logits=decoder ) )\n",
    "optimizer = tf.train.AdamOptimizer(learning_rate=trainingParam.learningRate)\n",
    "d_sigmoid_loss = optimizer.minimize(loss)\n",
    "\n",
    "# avg_metric_reset: set to zero\n",
    "# avg_metric_update: add recent value to variable\n",
    "# avg_metric: get average of sum'd variables\n",
    "avg_loss, avg_loss_update, avg_loss_reset = cfh.create_reset_metric(tf.metrics.mean, 'loss_metric', loss)\n",
    "avg_ber, avg_ber_update, avg_ber_reset = cfh.create_reset_metric(tf.metrics.mean, 'ber_metric', bit_error_rate)\n",
    "avg_gaussian_gmi, avg_gaussian_gmi_update, avg_gaussian_gmi_reset = cfh.create_reset_metric(tf.metrics.mean, 'gaussian_gmi_metric', gaussian_GMI)\n",
    "avg_sigmoid_gmi, avg_sigmoid_gmi_update, avg_sigmoid_gmi_reset = cfh.create_reset_metric(tf.metrics.mean, 'sigmoid_gmi_metric', sigmoid_GMI)\n",
    "reset_ops = [avg_loss_reset, avg_ber_reset, avg_gaussian_gmi_reset, avg_sigmoid_gmi_reset]\n",
    "update_ops = [avg_loss_update, avg_ber_update, avg_gaussian_gmi_update, avg_sigmoid_gmi_update]"
   ]
  },
  {
   "cell_type": "code",
   "execution_count": 15,
   "metadata": {},
   "outputs": [],
   "source": [
    "sess = tf.Session()\n",
    "\n",
    "if trainingParam.summaries:\n",
    "    weights_summaries = tf.summary.merge_all() # without weight/bias histograms\n",
    "    # Summaries\n",
    "    s = [tf.summary.scalar('accuracy', avg_ber),\n",
    "         tf.summary.scalar('loss', avg_loss),\n",
    "         tf.summary.scalar('gaussian_GMI', avg_gaussian_gmi),\n",
    "         tf.summary.scalar('sigmoid_GMI', avg_sigmoid_gmi)]\n",
    "\n",
    "    epoche_summaries = tf.summary.merge(s) # without weight/bias histograms\n",
    "\n",
    "    summaries_dir = os.path.join(trainingParam.path,'tboard{}'.format(chParam.M),trainingParam.summaryString)\n",
    "    os.makedirs(summaries_dir, exist_ok=True)\n",
    "\n",
    "    train_writer = tf.summary.FileWriter(summaries_dir + '/train', sess.graph)\n",
    "else:\n",
    "    train_writer = None\n",
    "        \n",
    "sess.run(tf.global_variables_initializer())\n",
    "\n",
    "saver = tf.train.Saver()\n",
    "checkpoint_path = os.path.join(trainingParam.path,'checkpoint',trainingParam.filename,'best')\n",
    "if not os.path.exists(checkpoint_path):\n",
    "    os.makedirs(checkpoint_path)\n",
    "else:\n",
    "    pass\n",
    "#     print(\"Restoring checkpoint...\", flush=True)\n",
    "#     saver.restore(sess=sess,save_path=checkpoint_path)"
   ]
  },
  {
   "cell_type": "code",
   "execution_count": 16,
   "metadata": {},
   "outputs": [
    {
     "data": {
      "image/png": "[encoded data removed]",
      "text/plain": [
       "<Figure size 576x576 with 1 Axes>"
      ]
     },
     "metadata": {
      "needs_background": "light"
     },
     "output_type": "display_data"
    }
   ],
   "source": [
    "# constellation before training\n",
    "[constellation,constellation_bits] = sess.run([enc_seed_norm,X_seed])\n",
    "plt.figure(figsize=(8,8))\n",
    "plt.plot(constellation[:,0],constellation[:,1],'.')\n",
    "\n",
    "for ii in range(constellation.shape[0]):\n",
    "    bit_string = ''.join( [ str(int(x)) for x in allCombinations[ii,:].tolist()] )\n",
    "    plt.text(constellation[ii,0], constellation[ii,1], bit_string, fontsize=12)\n",
    "plt.axis('square');\n",
    "lim_ = 1.6\n",
    "plt.xlim(-lim_,lim_);\n",
    "plt.ylim(-lim_,lim_);"
   ]
  },
  {
   "cell_type": "code",
   "execution_count": 17,
   "metadata": {},
   "outputs": [],
   "source": [
    "bestLoss = 100000\n",
    "bestAcc = 0\n",
    "lastImprovement = 0\n",
    "epoche = 0\n",
    "nBatches = int(trainingParam.sampleSize/trainingParam.batchSize)\n",
    "batchSizeMultiples = 1\n",
    "batchSize = batchSizeMultiples * trainingParam.batchSize\n",
    "\n",
    "np_loss = []\n",
    "np_ber  = []\n",
    "np_gaussian_gmi  = []\n",
    "np_sigmoid_gmi  = []"
   ]
  },
  {
   "cell_type": "markdown",
   "metadata": {},
   "source": [
    "### Comment on the training procedure:\n",
    "The training gets stuck early when a large batch size is chosen. For this reason we start with a low batch size, and iterativley increase it after temporary convergence. Training with a low batch size introduces a more stochastic gradient estimation, which helps to get out of the local minima."
   ]
  },
  {
   "cell_type": "code",
   "execution_count": 18,
   "metadata": {},
   "outputs": [
    {
     "name": "stdout",
     "output_type": "stream",
     "text": [
      "START TRAINING ... \n",
      "epoche: 0025 - avgLoss: 0.23 - avgBer: 1.10e-01 - avgGaussianGmi: 2.97 - avgSigmoidGmi: 2.65\n",
      "epoche: 0050 - avgLoss: 0.18 - avgBer: 7.21e-02 - avgGaussianGmi: 3.14 - avgSigmoidGmi: 2.98\n",
      "epoche: 0075 - avgLoss: 0.17 - avgBer: 7.20e-02 - avgGaussianGmi: 3.16 - avgSigmoidGmi: 3.01\n",
      "epoche: 0100 - avgLoss: 0.17 - avgBer: 7.24e-02 - avgGaussianGmi: 3.16 - avgSigmoidGmi: 3.03\n",
      "INFO:tensorflow:Restoring parameters from results_GMI_AWGN/checkpoint/M016_seed1337_SNR10/best\n",
      "batchSize: 48, batchSizeMultiples: 3\n",
      "epoche: 0125 - avgLoss: 0.16 - avgBer: 6.52e-02 - avgGaussianGmi: 3.18 - avgSigmoidGmi: 3.09\n",
      "INFO:tensorflow:Restoring parameters from results_GMI_AWGN/checkpoint/M016_seed1337_SNR10/best\n",
      "batchSize: 80, batchSizeMultiples: 5\n",
      "epoche: 0150 - avgLoss: 0.15 - avgBer: 6.22e-02 - avgGaussianGmi: 3.18 - avgSigmoidGmi: 3.12\n",
      "epoche: 0175 - avgLoss: 0.15 - avgBer: 6.25e-02 - avgGaussianGmi: 3.20 - avgSigmoidGmi: 3.14\n",
      "epoche: 0200 - avgLoss: 0.16 - avgBer: 6.05e-02 - avgGaussianGmi: 3.16 - avgSigmoidGmi: 3.10\n",
      "INFO:tensorflow:Restoring parameters from results_GMI_AWGN/checkpoint/M016_seed1337_SNR10/best\n",
      "batchSize: 112, batchSizeMultiples: 7\n",
      "epoche: 0225 - avgLoss: 0.15 - avgBer: 6.24e-02 - avgGaussianGmi: 3.17 - avgSigmoidGmi: 3.14\n",
      "INFO:tensorflow:Restoring parameters from results_GMI_AWGN/checkpoint/M016_seed1337_SNR10/best\n",
      "batchSize: 144, batchSizeMultiples: 9\n",
      "epoche: 0250 - avgLoss: 0.15 - avgBer: 6.05e-02 - avgGaussianGmi: 3.16 - avgSigmoidGmi: 3.14\n",
      "epoche: 0275 - avgLoss: 0.15 - avgBer: 6.27e-02 - avgGaussianGmi: 3.17 - avgSigmoidGmi: 3.12\n",
      "INFO:tensorflow:Restoring parameters from results_GMI_AWGN/checkpoint/M016_seed1337_SNR10/best\n",
      "batchSize: 176, batchSizeMultiples: 11\n",
      "epoche: 0300 - avgLoss: 0.15 - avgBer: 6.35e-02 - avgGaussianGmi: 3.16 - avgSigmoidGmi: 3.13\n",
      "epoche: 0325 - avgLoss: 0.15 - avgBer: 5.74e-02 - avgGaussianGmi: 3.18 - avgSigmoidGmi: 3.16\n",
      "epoche: 0350 - avgLoss: 0.15 - avgBer: 5.98e-02 - avgGaussianGmi: 3.18 - avgSigmoidGmi: 3.14\n",
      "INFO:tensorflow:Restoring parameters from results_GMI_AWGN/checkpoint/M016_seed1337_SNR10/best\n",
      "batchSize: 208, batchSizeMultiples: 13\n",
      "epoche: 0375 - avgLoss: 0.15 - avgBer: 6.35e-02 - avgGaussianGmi: 3.14 - avgSigmoidGmi: 3.12\n",
      "epoche: 0400 - avgLoss: 0.15 - avgBer: 6.25e-02 - avgGaussianGmi: 3.18 - avgSigmoidGmi: 3.15\n",
      "INFO:tensorflow:Restoring parameters from results_GMI_AWGN/checkpoint/M016_seed1337_SNR10/best\n",
      "batchSize: 240, batchSizeMultiples: 15\n",
      "epoche: 0425 - avgLoss: 0.15 - avgBer: 6.23e-02 - avgGaussianGmi: 3.17 - avgSigmoidGmi: 3.13\n",
      "INFO:tensorflow:Restoring parameters from results_GMI_AWGN/checkpoint/M016_seed1337_SNR10/best\n"
     ]
    }
   ],
   "source": [
    "print( 'START TRAINING ... ', flush=True )\n",
    "while(True):\n",
    "    epoche = epoche + 1\n",
    "\n",
    "    sess.run(reset_ops)\n",
    "    \n",
    "    # train AE with iteratively increasing batch size\n",
    "    for batch in range(0,nBatches):\n",
    "        feedDict = {X: cu.generateBitVectors(batchSize,chParam.M)}\n",
    "        sess.run(d_sigmoid_loss, feed_dict=feedDict)\n",
    "    \n",
    "    # gather performance metrics with large batch size\n",
    "    for batch in range(0,nBatches):\n",
    "        feedDict = {X: cu.generateBitVectors(trainingParam.sampleSize,chParam.M)}\n",
    "        sess.run(update_ops, feed_dict=feedDict)\n",
    "\n",
    "    [outAvgLoss, outAvgBer, outAvgGaussianGmi, outAvgSigmoidGmi] = sess.run([avg_loss, avg_ber, avg_gaussian_gmi, avg_sigmoid_gmi], feed_dict=feedDict)\n",
    "\n",
    "    np_loss.append( outAvgLoss )\n",
    "    np_ber.append( outAvgBer )\n",
    "    np_gaussian_gmi.append( outAvgGaussianGmi )\n",
    "    np_sigmoid_gmi.append( outAvgSigmoidGmi )\n",
    "    \n",
    "    if trainingParam.summaries:\n",
    "        epocheSummaries = sess.run(epoche_summaries, feed_dict=feedDict)\n",
    "        train_writer.add_summary(epocheSummaries,epoche)\n",
    "\n",
    "    if outAvgLoss < bestLoss:\n",
    "        bestLoss = outAvgLoss\n",
    "        lastImprovement = epoche\n",
    "        saver.save(sess=sess,save_path=checkpoint_path)\n",
    "\n",
    "    # convergence check and increase empirical evidence\n",
    "    if epoche - lastImprovement > trainingParam.earlyStopping:\n",
    "\n",
    "        saver.restore(sess=sess,save_path=checkpoint_path)\n",
    "        bestLoss = 10000\n",
    "        lastImprovement = epoche\n",
    "\n",
    "        # increase empirical evidence\n",
    "        batchSizeMultiples = batchSizeMultiples + 2\n",
    "        batchSize = batchSizeMultiples * trainingParam.batchSize\n",
    "        if batchSizeMultiples >= 17:\n",
    "            break;\n",
    "\n",
    "        print(\"batchSize: {}, batchSizeMultiples: {}\".format(batchSize,batchSizeMultiples))\n",
    "\n",
    "    if epoche%trainingParam.displayStep == 0:\n",
    "        print('epoche: {:04d} - avgLoss: {:.2f} - avgBer: {:.2e} - avgGaussianGmi: {:.2f} - avgSigmoidGmi: {:.2f}'.format(epoche,outAvgLoss,outAvgBer,outAvgGaussianGmi,outAvgSigmoidGmi),flush=True)"
   ]
  },
  {
   "cell_type": "code",
   "execution_count": null,
   "metadata": {},
   "outputs": [],
   "source": [
    "saver.restore(sess=sess,save_path=checkpoint_path)\n",
    "np_loss = np.array( np_loss )\n",
    "np_ber  = np.array( np_ber )\n",
    "np_gaussian_gmi  = np.array( np_gaussian_gmi )\n",
    "np_sigmoid_gmi  = np.array( np_sigmoid_gmi )\n",
    "plt.plot( np_loss )"
   ]
  },
  {
   "cell_type": "code",
   "execution_count": null,
   "metadata": {},
   "outputs": [],
   "source": [
    "plt.plot( np_gaussian_gmi )\n",
    "plt.plot( np_sigmoid_gmi )"
   ]
  },
  {
   "cell_type": "code",
   "execution_count": null,
   "metadata": {},
   "outputs": [],
   "source": [
    "# constellation after training\n",
    "[constellation,constellation_bits] = sess.run([enc_seed_norm,X_seed])\n",
    "plt.figure(figsize=(8,8))\n",
    "plt.plot(constellation[:,0],constellation[:,1],'x')\n",
    "\n",
    "for ii in range(constellation.shape[0]):\n",
    "    bit_string = ''.join( [ str(int(x)) for x in allCombinations[ii,:].tolist()] )\n",
    "    plt.text(constellation[ii,0]+0.01, constellation[ii,1]+0.01, bit_string, fontsize=12)\n",
    "plt.axis('square');\n",
    "lim_ = 1.6\n",
    "plt.xlim(-lim_,lim_);\n",
    "plt.ylim(-lim_,lim_);"
   ]
  },
  {
   "cell_type": "code",
   "execution_count": null,
   "metadata": {},
   "outputs": [],
   "source": [
    "sess.run(reset_ops)\n",
    "for batch in range(0,100):\n",
    "    feedDict = {X: cu.generateBitVectors(1000,chParam.M)}\n",
    "    sess.run(update_ops, feed_dict=feedDict)\n",
    "[outAvgLoss, outAvgBer, outAvgGaussianGmi, outAvgSigmoidGmi] = sess.run([avg_loss, avg_ber, avg_gaussian_gmi, avg_sigmoid_gmi], feed_dict=feedDict)\n",
    "finalMetrics = { 'GaussianGMI': outAvgGaussianGmi, 'SigmoidGMI': outAvgSigmoidGmi, 'BER': outAvgBer, 'xentropy': outAvgLoss }\n",
    "\n",
    "print( 'finalMetrics:', finalMetrics )"
   ]
  }
 ],
 "metadata": {
  "kernelspec": {
   "display_name": "Python 3",
   "language": "python",
   "name": "python3"
  },
  "language_info": {
   "codemirror_mode": {
    "name": "ipython",
    "version": 3
   },
   "file_extension": ".py",
   "mimetype": "text/x-python",
   "name": "python",
   "nbconvert_exporter": "python",
   "pygments_lexer": "ipython3",
   "version": "3.6.5"
  }
 },
 "nbformat": 4,
 "nbformat_minor": 2
}
